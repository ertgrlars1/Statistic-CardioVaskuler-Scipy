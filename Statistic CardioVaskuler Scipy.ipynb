{
 "cells": [
  {
   "cell_type": "markdown",
   "id": "2be481ff",
   "metadata": {},
   "source": [
    "<div style=\"padding:20px;color:black;font-size:250%;text-align:center;border-radius:25px;background-color:orange;font-weight:700;border: 5px solid red;\">❤️ Cardiovascular Diseaset Statistic</div>\n",
    "\n",
    "<img src = \"https://www.apple.com/newsroom/tr/images/product/watch/standard/Apple-Watch-ECG-app-12062018_big.gif.large.gif\">"
   ]
  },
  {
   "cell_type": "markdown",
   "id": "8d95eb04",
   "metadata": {},
   "source": [
    "<div style=\"padding:20px;color:#D51CE8;font-size:250%;text-align:center;background-color:#F7FF00;font-weight:700;border: 5px solid #23C443;\">📑 Giriş</div>"
   ]
  },
  {
   "cell_type": "markdown",
   "id": "c49ee0f6",
   "metadata": {},
   "source": [
    "<h3 style= \"color: blue\">Amaç</h3>\n",
    "<b style = \"color : red\">Confidence İnterval</b>, <b style = \"color : red\">One Sample t Test</b>, <b style = \"color : red\">Independent Samples T Test</b>, <b style = \"color : red\">Levene Test</b>, <b style = \"color : red\">One-way ANOVA</b> ve <b style = \"color : red\" >Chi-Square Test</b> kullanarak verimizi incelemek"
   ]
  },
  {
   "cell_type": "markdown",
   "id": "c25faa7a",
   "metadata": {},
   "source": [
    "<h3 style= \"color: blue\">Aşama 1</h3>\n",
    "<ol>\n",
    "    <li><b>Verinin özelliklerinin gözden geçirilmesi</b></li>\n",
    "    <li><b>Column'ların tanıtımları</b></li>\n",
    "    <li><b>DataFrame'in Düzenlenmesi ve Sample Oluşturma</b></li>\n",
    "</ol>"
   ]
  },
  {
   "cell_type": "markdown",
   "id": "f795b043",
   "metadata": {},
   "source": [
    "<h3 style= \"color: blue\">Aşama 2</h3>\n",
    "<ol>\n",
    "    <li><b>Verilerin İstatiksel Araştırılması</b></li>\n",
    "</ol>"
   ]
  },
  {
   "cell_type": "markdown",
   "id": "4b0b7118",
   "metadata": {},
   "source": [
    "<div style=\"padding:15px;color:black;font-size:200%;text-align:center;border-radius:5px;background-color:#E040FB;font-weight:700;border: 2px solid red;\">🔖 Aşama 1</div>"
   ]
  },
  {
   "cell_type": "markdown",
   "id": "6277bb16",
   "metadata": {},
   "source": [
    "# 👁️ Verinin özelliklerinin gözden geçirilmesi"
   ]
  },
  {
   "cell_type": "code",
   "execution_count": 1,
   "id": "c5367687",
   "metadata": {},
   "outputs": [],
   "source": [
    "import pandas as pd\n",
    "import numpy as np\n",
    "import matplotlib.pyplot as plt\n",
    "import seaborn as sns\n",
    "from scipy import stats\n",
    "from statsmodels.stats.multicomp import pairwise_tukeyhsd, MultiComparison\n",
    "import warnings\n",
    "warnings.filterwarnings(\"ignore\")\n",
    "plt.rcParams[\"figure.figsize\"] = (8,6)\n",
    "plt.rcParams['figure.dpi'] = 70"
   ]
  },
  {
   "cell_type": "code",
   "execution_count": 2,
   "id": "c2a1d380",
   "metadata": {},
   "outputs": [
    {
     "data": {
      "text/html": [
       "<div>\n",
       "<style scoped>\n",
       "    .dataframe tbody tr th:only-of-type {\n",
       "        vertical-align: middle;\n",
       "    }\n",
       "\n",
       "    .dataframe tbody tr th {\n",
       "        vertical-align: top;\n",
       "    }\n",
       "\n",
       "    .dataframe thead th {\n",
       "        text-align: right;\n",
       "    }\n",
       "</style>\n",
       "<table border=\"1\" class=\"dataframe\">\n",
       "  <thead>\n",
       "    <tr style=\"text-align: right;\">\n",
       "      <th></th>\n",
       "      <th>id</th>\n",
       "      <th>age</th>\n",
       "      <th>gender</th>\n",
       "      <th>height</th>\n",
       "      <th>weight</th>\n",
       "      <th>ap_hi</th>\n",
       "      <th>ap_lo</th>\n",
       "      <th>cholesterol</th>\n",
       "      <th>gluc</th>\n",
       "      <th>smoke</th>\n",
       "      <th>alco</th>\n",
       "      <th>active</th>\n",
       "      <th>cardio</th>\n",
       "    </tr>\n",
       "  </thead>\n",
       "  <tbody>\n",
       "    <tr>\n",
       "      <th>0</th>\n",
       "      <td>0</td>\n",
       "      <td>18393</td>\n",
       "      <td>2</td>\n",
       "      <td>168</td>\n",
       "      <td>62.0</td>\n",
       "      <td>110</td>\n",
       "      <td>80</td>\n",
       "      <td>1</td>\n",
       "      <td>1</td>\n",
       "      <td>0</td>\n",
       "      <td>0</td>\n",
       "      <td>1</td>\n",
       "      <td>0</td>\n",
       "    </tr>\n",
       "    <tr>\n",
       "      <th>1</th>\n",
       "      <td>1</td>\n",
       "      <td>20228</td>\n",
       "      <td>1</td>\n",
       "      <td>156</td>\n",
       "      <td>85.0</td>\n",
       "      <td>140</td>\n",
       "      <td>90</td>\n",
       "      <td>3</td>\n",
       "      <td>1</td>\n",
       "      <td>0</td>\n",
       "      <td>0</td>\n",
       "      <td>1</td>\n",
       "      <td>1</td>\n",
       "    </tr>\n",
       "    <tr>\n",
       "      <th>2</th>\n",
       "      <td>2</td>\n",
       "      <td>18857</td>\n",
       "      <td>1</td>\n",
       "      <td>165</td>\n",
       "      <td>64.0</td>\n",
       "      <td>130</td>\n",
       "      <td>70</td>\n",
       "      <td>3</td>\n",
       "      <td>1</td>\n",
       "      <td>0</td>\n",
       "      <td>0</td>\n",
       "      <td>0</td>\n",
       "      <td>1</td>\n",
       "    </tr>\n",
       "    <tr>\n",
       "      <th>3</th>\n",
       "      <td>3</td>\n",
       "      <td>17623</td>\n",
       "      <td>2</td>\n",
       "      <td>169</td>\n",
       "      <td>82.0</td>\n",
       "      <td>150</td>\n",
       "      <td>100</td>\n",
       "      <td>1</td>\n",
       "      <td>1</td>\n",
       "      <td>0</td>\n",
       "      <td>0</td>\n",
       "      <td>1</td>\n",
       "      <td>1</td>\n",
       "    </tr>\n",
       "    <tr>\n",
       "      <th>4</th>\n",
       "      <td>4</td>\n",
       "      <td>17474</td>\n",
       "      <td>1</td>\n",
       "      <td>156</td>\n",
       "      <td>56.0</td>\n",
       "      <td>100</td>\n",
       "      <td>60</td>\n",
       "      <td>1</td>\n",
       "      <td>1</td>\n",
       "      <td>0</td>\n",
       "      <td>0</td>\n",
       "      <td>0</td>\n",
       "      <td>0</td>\n",
       "    </tr>\n",
       "  </tbody>\n",
       "</table>\n",
       "</div>"
      ],
      "text/plain": [
       "   id    age  gender  height  weight  ap_hi  ap_lo  cholesterol  gluc  smoke  \\\n",
       "0   0  18393       2     168    62.0    110     80            1     1      0   \n",
       "1   1  20228       1     156    85.0    140     90            3     1      0   \n",
       "2   2  18857       1     165    64.0    130     70            3     1      0   \n",
       "3   3  17623       2     169    82.0    150    100            1     1      0   \n",
       "4   4  17474       1     156    56.0    100     60            1     1      0   \n",
       "\n",
       "   alco  active  cardio  \n",
       "0     0       1       0  \n",
       "1     0       1       1  \n",
       "2     0       0       1  \n",
       "3     0       1       1  \n",
       "4     0       0       0  "
      ]
     },
     "execution_count": 2,
     "metadata": {},
     "output_type": "execute_result"
    }
   ],
   "source": [
    "df0 = pd.read_csv(\"cardio.csv\", sep=\";\")\n",
    "df = df0.copy()\n",
    "df.head()"
   ]
  },
  {
   "cell_type": "code",
   "execution_count": 3,
   "id": "d348e3d0",
   "metadata": {},
   "outputs": [
    {
     "name": "stdout",
     "output_type": "stream",
     "text": [
      "<class 'pandas.core.frame.DataFrame'>\n",
      "RangeIndex: 70000 entries, 0 to 69999\n",
      "Data columns (total 13 columns):\n",
      " #   Column       Non-Null Count  Dtype  \n",
      "---  ------       --------------  -----  \n",
      " 0   id           70000 non-null  int64  \n",
      " 1   age          70000 non-null  int64  \n",
      " 2   gender       70000 non-null  int64  \n",
      " 3   height       70000 non-null  int64  \n",
      " 4   weight       70000 non-null  float64\n",
      " 5   ap_hi        70000 non-null  int64  \n",
      " 6   ap_lo        70000 non-null  int64  \n",
      " 7   cholesterol  70000 non-null  int64  \n",
      " 8   gluc         70000 non-null  int64  \n",
      " 9   smoke        70000 non-null  int64  \n",
      " 10  alco         70000 non-null  int64  \n",
      " 11  active       70000 non-null  int64  \n",
      " 12  cardio       70000 non-null  int64  \n",
      "dtypes: float64(1), int64(12)\n",
      "memory usage: 6.9 MB\n"
     ]
    }
   ],
   "source": [
    "df.info()"
   ]
  },
  {
   "cell_type": "markdown",
   "id": "993c8c89",
   "metadata": {},
   "source": [
    "# 🧮 Column Tanımları\n",
    "<ul>\n",
    "        <li><b style = \"color : red\">age </b>:Yaş(gün)</li>\n",
    "        <li><b style = \"color : red\">gender </b>: Cinsiyet | 1:Female, 2:Male</li>\n",
    "        <li><b style = \"color : red\">height </b>: Uzunluk(cm)</li>\n",
    "        <li><b style = \"color : red\">weight </b>: Ağırlık(kg)</li>\n",
    "        <li><b style = \"color : red\">ap_hi </b>: Sistolik Kan Basıncı(Büyük Tansiyon)(int)</li>\n",
    "        <li><b style = \"color : red\">ap_lo </b>: Diyastolik Kan Basıncı(Küçük Tansiyon)(int)</li>\n",
    "        <li><b style = \"color : red\">cholesterol </b>: Kolestrol | 1: normal, 2: normalin üzerinde, 3: normalin çok üzerinde</li>\n",
    "        <li><b style = \"color : red\">gluc </b>: Glukoz | 1: normal, 2: normalin üzerinde, 3: normalin çok üzerinde</li>\n",
    "        <li><b style = \"color : red\">smoke </b>: 0: İçmiyor, 1: İçiyor</li>\n",
    "        <li><b style = \"color : red\">alco </b>: Alkol | 0: İçmiyor, 1: İçiyor</li>\n",
    "        <li><b style = \"color : red\">active </b>: Aktiflik | 0: Aktif Değil, 1: Aktif</li>\n",
    "        <li><b style = \"color : red\">cardio </b>: 0: Cardiovasküler Hastası Değil, 1: Cardiovasküler Hastası</li>\n",
    "    </ul>"
   ]
  },
  {
   "cell_type": "markdown",
   "id": "ae05e81b",
   "metadata": {},
   "source": [
    "# 🧼 DataFrame'in Düzenlenmesi"
   ]
  },
  {
   "cell_type": "markdown",
   "id": "d484e9f0",
   "metadata": {},
   "source": [
    "**Age sütünü gün bazlı verildiği için onu ortalama olarak yıl'a çevirelim**"
   ]
  },
  {
   "cell_type": "code",
   "execution_count": 4,
   "id": "89755a0a",
   "metadata": {},
   "outputs": [],
   "source": [
    "df.age = round(df.age / 365).astype(int)"
   ]
  },
  {
   "cell_type": "code",
   "execution_count": 5,
   "id": "5cb3bad8",
   "metadata": {},
   "outputs": [
    {
     "data": {
      "text/plain": [
       "35040     -150\n",
       "23988     -140\n",
       "46627     -120\n",
       "25240     -120\n",
       "16021     -115\n",
       "         ...  \n",
       "47253    14020\n",
       "25464    14020\n",
       "25519    14020\n",
       "46912    14020\n",
       "40852    16020\n",
       "Name: ap_hi, Length: 70000, dtype: int64"
      ]
     },
     "execution_count": 5,
     "metadata": {},
     "output_type": "execute_result"
    }
   ],
   "source": [
    "df.ap_hi.sort_values()"
   ]
  },
  {
   "cell_type": "markdown",
   "id": "79f5aa28",
   "metadata": {},
   "source": [
    "**Sistolik kan basıncı negtif ve cok yüksek değerler olamayacağı için aralığını araştırmalar neticesinde 70 ile 170 arasında alalım**"
   ]
  },
  {
   "cell_type": "code",
   "execution_count": 6,
   "id": "62c4cea5",
   "metadata": {},
   "outputs": [],
   "source": [
    "df = df[(df.ap_hi < 170) & (df.ap_hi > 70)]"
   ]
  },
  {
   "cell_type": "markdown",
   "id": "23e5a1c4",
   "metadata": {},
   "source": [
    "**Diolastik kan basıncı 0 ve cok yüksek değerler olamayacağı için aralığını araştırmalar neticesinde 40 ile 120 arasında alalım**"
   ]
  },
  {
   "cell_type": "code",
   "execution_count": 7,
   "id": "e4ff903c",
   "metadata": {},
   "outputs": [],
   "source": [
    "df = df[(df.ap_lo < 120) & (df.ap_lo > 40)]"
   ]
  },
  {
   "cell_type": "markdown",
   "id": "12395cc7",
   "metadata": {},
   "source": [
    "**Sample'i 10000 alalım**"
   ]
  },
  {
   "cell_type": "code",
   "execution_count": 8,
   "id": "0490d2ec",
   "metadata": {},
   "outputs": [],
   "source": [
    "df = df.sample(10000)"
   ]
  },
  {
   "cell_type": "markdown",
   "id": "6cee9ffb",
   "metadata": {},
   "source": [
    "<div style=\"padding:15px;color:black;margin:0;font-size:200%;text-align:center;display:fill;border-radius:5px;background-color:orange;overflow:hidden;font-weight:700;border: 2px solid red;\">🔖 Aşama 2</div>"
   ]
  },
  {
   "cell_type": "code",
   "execution_count": 9,
   "id": "b69a3440",
   "metadata": {},
   "outputs": [
    {
     "data": {
      "text/html": [
       "<div>\n",
       "<style scoped>\n",
       "    .dataframe tbody tr th:only-of-type {\n",
       "        vertical-align: middle;\n",
       "    }\n",
       "\n",
       "    .dataframe tbody tr th {\n",
       "        vertical-align: top;\n",
       "    }\n",
       "\n",
       "    .dataframe thead th {\n",
       "        text-align: right;\n",
       "    }\n",
       "</style>\n",
       "<table border=\"1\" class=\"dataframe\">\n",
       "  <thead>\n",
       "    <tr style=\"text-align: right;\">\n",
       "      <th></th>\n",
       "      <th>age</th>\n",
       "      <th>height</th>\n",
       "      <th>weight</th>\n",
       "      <th>ap_hi</th>\n",
       "      <th>ap_lo</th>\n",
       "    </tr>\n",
       "  </thead>\n",
       "  <tbody>\n",
       "    <tr>\n",
       "      <th>count</th>\n",
       "      <td>10000.000000</td>\n",
       "      <td>10000.000000</td>\n",
       "      <td>10000.000000</td>\n",
       "      <td>10000.000000</td>\n",
       "      <td>10000.00000</td>\n",
       "    </tr>\n",
       "    <tr>\n",
       "      <th>mean</th>\n",
       "      <td>53.399400</td>\n",
       "      <td>164.305900</td>\n",
       "      <td>73.869385</td>\n",
       "      <td>125.535500</td>\n",
       "      <td>80.94610</td>\n",
       "    </tr>\n",
       "    <tr>\n",
       "      <th>std</th>\n",
       "      <td>6.767101</td>\n",
       "      <td>8.243781</td>\n",
       "      <td>14.034757</td>\n",
       "      <td>14.636405</td>\n",
       "      <td>8.79057</td>\n",
       "    </tr>\n",
       "    <tr>\n",
       "      <th>min</th>\n",
       "      <td>39.000000</td>\n",
       "      <td>60.000000</td>\n",
       "      <td>21.000000</td>\n",
       "      <td>80.000000</td>\n",
       "      <td>45.00000</td>\n",
       "    </tr>\n",
       "    <tr>\n",
       "      <th>25%</th>\n",
       "      <td>49.000000</td>\n",
       "      <td>159.000000</td>\n",
       "      <td>65.000000</td>\n",
       "      <td>120.000000</td>\n",
       "      <td>80.00000</td>\n",
       "    </tr>\n",
       "    <tr>\n",
       "      <th>50%</th>\n",
       "      <td>54.000000</td>\n",
       "      <td>165.000000</td>\n",
       "      <td>72.000000</td>\n",
       "      <td>120.000000</td>\n",
       "      <td>80.00000</td>\n",
       "    </tr>\n",
       "    <tr>\n",
       "      <th>75%</th>\n",
       "      <td>58.000000</td>\n",
       "      <td>170.000000</td>\n",
       "      <td>82.000000</td>\n",
       "      <td>140.000000</td>\n",
       "      <td>90.00000</td>\n",
       "    </tr>\n",
       "    <tr>\n",
       "      <th>max</th>\n",
       "      <td>65.000000</td>\n",
       "      <td>207.000000</td>\n",
       "      <td>180.000000</td>\n",
       "      <td>168.000000</td>\n",
       "      <td>110.00000</td>\n",
       "    </tr>\n",
       "  </tbody>\n",
       "</table>\n",
       "</div>"
      ],
      "text/plain": [
       "                age        height        weight         ap_hi        ap_lo\n",
       "count  10000.000000  10000.000000  10000.000000  10000.000000  10000.00000\n",
       "mean      53.399400    164.305900     73.869385    125.535500     80.94610\n",
       "std        6.767101      8.243781     14.034757     14.636405      8.79057\n",
       "min       39.000000     60.000000     21.000000     80.000000     45.00000\n",
       "25%       49.000000    159.000000     65.000000    120.000000     80.00000\n",
       "50%       54.000000    165.000000     72.000000    120.000000     80.00000\n",
       "75%       58.000000    170.000000     82.000000    140.000000     90.00000\n",
       "max       65.000000    207.000000    180.000000    168.000000    110.00000"
      ]
     },
     "execution_count": 9,
     "metadata": {},
     "output_type": "execute_result"
    }
   ],
   "source": [
    "df.describe()[[\"age\",\"height\",\"weight\", \"ap_hi\", \"ap_lo\"]]"
   ]
  },
  {
   "cell_type": "markdown",
   "id": "08ed4d8a",
   "metadata": {},
   "source": [
    "# 🩸 ap_hi"
   ]
  },
  {
   "cell_type": "code",
   "execution_count": 10,
   "id": "f446282a",
   "metadata": {},
   "outputs": [
    {
     "data": {
      "text/plain": [
       "count    10000.000000\n",
       "mean       125.535500\n",
       "std         14.636405\n",
       "min         80.000000\n",
       "25%        120.000000\n",
       "50%        120.000000\n",
       "75%        140.000000\n",
       "max        168.000000\n",
       "Name: ap_hi, dtype: float64"
      ]
     },
     "execution_count": 10,
     "metadata": {},
     "output_type": "execute_result"
    }
   ],
   "source": [
    "df.describe().ap_hi"
   ]
  },
  {
   "cell_type": "code",
   "execution_count": 11,
   "id": "8074a6df",
   "metadata": {},
   "outputs": [],
   "source": [
    "Q1 = np.percentile(df.ap_hi, 25)\n",
    "Q3 = np.percentile(df.ap_hi, 75)\n",
    "IQR = stats.iqr(df.ap_hi)"
   ]
  },
  {
   "cell_type": "code",
   "execution_count": 12,
   "id": "1455bd20",
   "metadata": {},
   "outputs": [
    {
     "data": {
      "text/plain": [
       "90.0"
      ]
     },
     "execution_count": 12,
     "metadata": {},
     "output_type": "execute_result"
    }
   ],
   "source": [
    "lower_limit = Q1 - 1.5 * IQR\n",
    "lower_limit"
   ]
  },
  {
   "cell_type": "markdown",
   "id": "aa64766e",
   "metadata": {},
   "source": [
    "**Alt limit**"
   ]
  },
  {
   "cell_type": "code",
   "execution_count": 13,
   "id": "99b9a0b1",
   "metadata": {},
   "outputs": [
    {
     "data": {
      "text/plain": [
       "170.0"
      ]
     },
     "execution_count": 13,
     "metadata": {},
     "output_type": "execute_result"
    }
   ],
   "source": [
    "upper_limit = Q3 + 1.5 * IQR\n",
    "upper_limit"
   ]
  },
  {
   "cell_type": "markdown",
   "id": "73cbd5b8",
   "metadata": {},
   "source": [
    "**Üst limit**"
   ]
  },
  {
   "cell_type": "code",
   "execution_count": 14,
   "id": "6c1480fc",
   "metadata": {},
   "outputs": [
    {
     "data": {
      "image/png": "[encoded data removed]",
      "text/plain": [
       "<Figure size 560x420 with 1 Axes>"
      ]
     },
     "metadata": {},
     "output_type": "display_data"
    }
   ],
   "source": [
    "sns.boxplot(df.ap_hi);"
   ]
  },
  {
   "cell_type": "markdown",
   "id": "daddc41d",
   "metadata": {},
   "source": [
    "**Ortalama 125 olabilir mi onu inceleyelim**"
   ]
  },
  {
   "cell_type": "raw",
   "id": "895e023f",
   "metadata": {},
   "source": [
    "H0 : mü = 125\n",
    "H1 : mü > 125"
   ]
  },
  {
   "cell_type": "code",
   "execution_count": 15,
   "id": "3832ee35",
   "metadata": {},
   "outputs": [],
   "source": [
    "# 1.Yol\n",
    "x_bar = df.ap_hi.mean()\n",
    "n = len(df.ap_hi)\n",
    "s = df.ap_hi.std()\n",
    "mü = 125\n",
    "alpha = 0.05"
   ]
  },
  {
   "cell_type": "code",
   "execution_count": 16,
   "id": "cf0f79dd",
   "metadata": {},
   "outputs": [],
   "source": [
    "t = (x_bar - mü) / (s / np.sqrt(n))"
   ]
  },
  {
   "cell_type": "code",
   "execution_count": 17,
   "id": "3a82cc2f",
   "metadata": {},
   "outputs": [
    {
     "data": {
      "text/plain": [
       "0.00012740812579647987"
      ]
     },
     "execution_count": 17,
     "metadata": {},
     "output_type": "execute_result"
    }
   ],
   "source": [
    "1 - stats.t.cdf(t, n-1)"
   ]
  },
  {
   "cell_type": "code",
   "execution_count": 18,
   "id": "da7fdd84",
   "metadata": {},
   "outputs": [
    {
     "data": {
      "text/plain": [
       "Ttest_1sampResult(statistic=3.6586852196546955, pvalue=0.00012740812579642427)"
      ]
     },
     "execution_count": 18,
     "metadata": {},
     "output_type": "execute_result"
    }
   ],
   "source": [
    "# 2.Yol\n",
    "stats.ttest_1samp(df.ap_hi, 125, alternative=\"greater\")"
   ]
  },
  {
   "cell_type": "markdown",
   "id": "302d38c3",
   "metadata": {},
   "source": [
    "**%95 güvenirlikte incelediğimizde pvalue < alpha oldugundan H0 hipotezi reddedilir. Yani ortalama 125'ten büyüktür**"
   ]
  },
  {
   "cell_type": "code",
   "execution_count": 19,
   "id": "e80a0632",
   "metadata": {},
   "outputs": [
    {
     "data": {
      "text/plain": [
       "(125.24859699696759, 125.8224030030324)"
      ]
     },
     "execution_count": 19,
     "metadata": {},
     "output_type": "execute_result"
    }
   ],
   "source": [
    "sem = df.ap_hi.sem()\n",
    "stats.t.interval(0.95, len(df.ap_hi) - 1, df.ap_hi.mean(), sem)"
   ]
  },
  {
   "cell_type": "markdown",
   "id": "8d3e5911",
   "metadata": {},
   "source": [
    "**Ortalama uzunluk %95 güvenirlikte 125.2 ile 125.8 arasındadır**"
   ]
  },
  {
   "cell_type": "markdown",
   "id": "5c3178fb",
   "metadata": {},
   "source": [
    "# 🩸 ap_hi ❌ Gender👩👨"
   ]
  },
  {
   "cell_type": "markdown",
   "id": "6fdb30c3",
   "metadata": {},
   "source": [
    "**Erkek ve kadın sistolik kan basıncına bakalım**"
   ]
  },
  {
   "cell_type": "code",
   "execution_count": 20,
   "id": "7eaf62f8",
   "metadata": {},
   "outputs": [
    {
     "data": {
      "image/png": "[encoded data removed]",
      "text/plain": [
       "<Figure size 560x420 with 1 Axes>"
      ]
     },
     "metadata": {},
     "output_type": "display_data"
    }
   ],
   "source": [
    "ax = sns.boxplot(y = df.ap_hi,x =  df.gender, showmeans = True, meanprops = {\"marker\" : \"o\",\n",
    "                                                      \"markerfacecolor\" : \"white\",\n",
    "                                                      \"markeredgecolor\" : \"red\",\n",
    "                                                      \"markersize\" : 10})\n",
    "ax.set_xticklabels([\"Female\", \"Male\"])\n",
    "ax.set_ylabel(\"Height(cm)\");"
   ]
  },
  {
   "cell_type": "code",
   "execution_count": 21,
   "id": "2f04203a",
   "metadata": {},
   "outputs": [
    {
     "data": {
      "text/html": [
       "<div>\n",
       "<style scoped>\n",
       "    .dataframe tbody tr th:only-of-type {\n",
       "        vertical-align: middle;\n",
       "    }\n",
       "\n",
       "    .dataframe tbody tr th {\n",
       "        vertical-align: top;\n",
       "    }\n",
       "\n",
       "    .dataframe thead th {\n",
       "        text-align: right;\n",
       "    }\n",
       "</style>\n",
       "<table border=\"1\" class=\"dataframe\">\n",
       "  <thead>\n",
       "    <tr style=\"text-align: right;\">\n",
       "      <th></th>\n",
       "      <th>count</th>\n",
       "      <th>mean</th>\n",
       "      <th>std</th>\n",
       "      <th>min</th>\n",
       "      <th>25%</th>\n",
       "      <th>50%</th>\n",
       "      <th>75%</th>\n",
       "      <th>max</th>\n",
       "    </tr>\n",
       "    <tr>\n",
       "      <th>gender</th>\n",
       "      <th></th>\n",
       "      <th></th>\n",
       "      <th></th>\n",
       "      <th></th>\n",
       "      <th></th>\n",
       "      <th></th>\n",
       "      <th></th>\n",
       "      <th></th>\n",
       "    </tr>\n",
       "  </thead>\n",
       "  <tbody>\n",
       "    <tr>\n",
       "      <th>1</th>\n",
       "      <td>6507.0</td>\n",
       "      <td>124.913785</td>\n",
       "      <td>14.891526</td>\n",
       "      <td>80.0</td>\n",
       "      <td>120.0</td>\n",
       "      <td>120.0</td>\n",
       "      <td>133.5</td>\n",
       "      <td>168.0</td>\n",
       "    </tr>\n",
       "    <tr>\n",
       "      <th>2</th>\n",
       "      <td>3493.0</td>\n",
       "      <td>126.693673</td>\n",
       "      <td>14.077944</td>\n",
       "      <td>80.0</td>\n",
       "      <td>120.0</td>\n",
       "      <td>120.0</td>\n",
       "      <td>140.0</td>\n",
       "      <td>165.0</td>\n",
       "    </tr>\n",
       "  </tbody>\n",
       "</table>\n",
       "</div>"
      ],
      "text/plain": [
       "         count        mean        std   min    25%    50%    75%    max\n",
       "gender                                                                 \n",
       "1       6507.0  124.913785  14.891526  80.0  120.0  120.0  133.5  168.0\n",
       "2       3493.0  126.693673  14.077944  80.0  120.0  120.0  140.0  165.0"
      ]
     },
     "execution_count": 21,
     "metadata": {},
     "output_type": "execute_result"
    }
   ],
   "source": [
    "df.groupby(\"gender\").ap_hi.describe()"
   ]
  },
  {
   "cell_type": "markdown",
   "id": "b75d9323",
   "metadata": {},
   "source": [
    "**Kadınların büyük tansiyonu 124.9 iken erkeklerinki 126.7'dir. İstatiksel anlamda farklı mıdır dıye inceleyelim**"
   ]
  },
  {
   "cell_type": "raw",
   "id": "14da1a3d",
   "metadata": {},
   "source": [
    "H0: var_female = var_male\n",
    "H1: var_female != var_male\n",
    "alpa = 0.05"
   ]
  },
  {
   "cell_type": "code",
   "execution_count": 22,
   "id": "88644eea",
   "metadata": {},
   "outputs": [
    {
     "data": {
      "text/plain": [
       "LeveneResult(statistic=1.4555558509549695, pvalue=0.2276671034543365)"
      ]
     },
     "execution_count": 22,
     "metadata": {},
     "output_type": "execute_result"
    }
   ],
   "source": [
    "stats.levene(df[df.gender == 1].ap_hi, df[df.gender == 2].ap_hi)"
   ]
  },
  {
   "cell_type": "markdown",
   "id": "7c0210e1",
   "metadata": {},
   "source": [
    "**pvalue > 0.05 oldugu için varyanslar aynıdır diyebiliriz**"
   ]
  },
  {
   "cell_type": "raw",
   "id": "f2a75a34",
   "metadata": {},
   "source": [
    "Ho : mü1 = mü2\n",
    "H1 : mü1 =! mü2"
   ]
  },
  {
   "cell_type": "code",
   "execution_count": 138,
   "id": "62361bf4",
   "metadata": {},
   "outputs": [
    {
     "data": {
      "text/plain": [
       "Ttest_indResult(statistic=-5.807074283356783, pvalue=6.551233420774094e-09)"
      ]
     },
     "execution_count": 138,
     "metadata": {},
     "output_type": "execute_result"
    }
   ],
   "source": [
    "stats.ttest_ind(df[df.gender == 1].ap_hi, df[df.gender == 2].ap_hi, equal_var=True)"
   ]
  },
  {
   "cell_type": "markdown",
   "id": "7875c181",
   "metadata": {},
   "source": [
    "**pvalue < 0.05 oldugu için H0 reddedilir ve istatiksel olarak kadın ve erkeklerin büyük tansiyon ortalamarı farklıdır**"
   ]
  },
  {
   "cell_type": "markdown",
   "id": "28a526d7",
   "metadata": {},
   "source": [
    "# 🩸 ap_hi ❌ cholesterol😷"
   ]
  },
  {
   "cell_type": "code",
   "execution_count": 24,
   "id": "2cc53ec6",
   "metadata": {},
   "outputs": [
    {
     "data": {
      "image/png": "[encoded data removed]",
      "text/plain": [
       "<Figure size 560x420 with 1 Axes>"
      ]
     },
     "metadata": {},
     "output_type": "display_data"
    }
   ],
   "source": [
    "ax = sns.boxplot(y = df.ap_hi,x =  df.cholesterol, showmeans = True, meanprops = {\"marker\" : \"o\",\n",
    "                                                      \"markerfacecolor\" : \"white\",\n",
    "                                                      \"markeredgecolor\" : \"red\",\n",
    "                                                      \"markersize\" : 10})"
   ]
  },
  {
   "cell_type": "code",
   "execution_count": 25,
   "id": "1c810b2d",
   "metadata": {},
   "outputs": [
    {
     "data": {
      "text/html": [
       "<div>\n",
       "<style scoped>\n",
       "    .dataframe tbody tr th:only-of-type {\n",
       "        vertical-align: middle;\n",
       "    }\n",
       "\n",
       "    .dataframe tbody tr th {\n",
       "        vertical-align: top;\n",
       "    }\n",
       "\n",
       "    .dataframe thead th {\n",
       "        text-align: right;\n",
       "    }\n",
       "</style>\n",
       "<table border=\"1\" class=\"dataframe\">\n",
       "  <thead>\n",
       "    <tr style=\"text-align: right;\">\n",
       "      <th></th>\n",
       "      <th>count</th>\n",
       "      <th>mean</th>\n",
       "      <th>std</th>\n",
       "      <th>min</th>\n",
       "      <th>25%</th>\n",
       "      <th>50%</th>\n",
       "      <th>75%</th>\n",
       "      <th>max</th>\n",
       "    </tr>\n",
       "    <tr>\n",
       "      <th>cholesterol</th>\n",
       "      <th></th>\n",
       "      <th></th>\n",
       "      <th></th>\n",
       "      <th></th>\n",
       "      <th></th>\n",
       "      <th></th>\n",
       "      <th></th>\n",
       "      <th></th>\n",
       "    </tr>\n",
       "  </thead>\n",
       "  <tbody>\n",
       "    <tr>\n",
       "      <th>1</th>\n",
       "      <td>7506.0</td>\n",
       "      <td>123.778044</td>\n",
       "      <td>13.910316</td>\n",
       "      <td>80.0</td>\n",
       "      <td>120.0</td>\n",
       "      <td>120.0</td>\n",
       "      <td>130.0</td>\n",
       "      <td>166.0</td>\n",
       "    </tr>\n",
       "    <tr>\n",
       "      <th>2</th>\n",
       "      <td>1329.0</td>\n",
       "      <td>129.616253</td>\n",
       "      <td>16.602917</td>\n",
       "      <td>80.0</td>\n",
       "      <td>120.0</td>\n",
       "      <td>130.0</td>\n",
       "      <td>140.0</td>\n",
       "      <td>168.0</td>\n",
       "    </tr>\n",
       "    <tr>\n",
       "      <th>3</th>\n",
       "      <td>1165.0</td>\n",
       "      <td>132.203433</td>\n",
       "      <td>13.954109</td>\n",
       "      <td>90.0</td>\n",
       "      <td>120.0</td>\n",
       "      <td>130.0</td>\n",
       "      <td>140.0</td>\n",
       "      <td>168.0</td>\n",
       "    </tr>\n",
       "  </tbody>\n",
       "</table>\n",
       "</div>"
      ],
      "text/plain": [
       "              count        mean        std   min    25%    50%    75%    max\n",
       "cholesterol                                                                 \n",
       "1            7506.0  123.778044  13.910316  80.0  120.0  120.0  130.0  166.0\n",
       "2            1329.0  129.616253  16.602917  80.0  120.0  130.0  140.0  168.0\n",
       "3            1165.0  132.203433  13.954109  90.0  120.0  130.0  140.0  168.0"
      ]
     },
     "execution_count": 25,
     "metadata": {},
     "output_type": "execute_result"
    }
   ],
   "source": [
    "df.groupby(\"cholesterol\").ap_hi.describe()"
   ]
  },
  {
   "cell_type": "markdown",
   "id": "f4ca96b1",
   "metadata": {},
   "source": [
    "**Kolestrol seviyelerine göre yüksek tansiyon ortalamarında anlamlı bir fark var mı inceleyelim**"
   ]
  },
  {
   "cell_type": "raw",
   "id": "f3c24637",
   "metadata": {},
   "source": [
    "H0 : all mean are equal (mu1 = mu2 = mu3)\n",
    "H1 : at least one mean is different"
   ]
  },
  {
   "cell_type": "code",
   "execution_count": 26,
   "id": "6f79eecd",
   "metadata": {},
   "outputs": [
    {
     "data": {
      "text/plain": [
       "F_onewayResult(statistic=237.376267301355, pvalue=1.9135170703924852e-101)"
      ]
     },
     "execution_count": 26,
     "metadata": {},
     "output_type": "execute_result"
    }
   ],
   "source": [
    "stats.f_oneway(df[df[\"cholesterol\"]==1][\"ap_hi\"],\n",
    "               df[df[\"cholesterol\"]==2][\"ap_hi\"],\n",
    "               df[df[\"cholesterol\"]==3][\"ap_hi\"])"
   ]
  },
  {
   "cell_type": "markdown",
   "id": "f094789a",
   "metadata": {},
   "source": [
    "**pvalue < 0.05 oldugu  için H0 hipotezini reddediriz. En az biri farklıdır. Peki hangisi ?**"
   ]
  },
  {
   "cell_type": "code",
   "execution_count": 27,
   "id": "8fcec8c0",
   "metadata": {},
   "outputs": [],
   "source": [
    "multicomp = MultiComparison(df.ap_hi, df.cholesterol)"
   ]
  },
  {
   "cell_type": "code",
   "execution_count": 28,
   "id": "08d57d6d",
   "metadata": {},
   "outputs": [],
   "source": [
    "tukey = multicomp.tukeyhsd(alpha = 0.05)"
   ]
  },
  {
   "cell_type": "code",
   "execution_count": 29,
   "id": "b901872b",
   "metadata": {},
   "outputs": [
    {
     "name": "stdout",
     "output_type": "stream",
     "text": [
      "Multiple Comparison of Means - Tukey HSD, FWER=0.05\n",
      "=================================================\n",
      "group1 group2 meandiff p-adj lower  upper  reject\n",
      "-------------------------------------------------\n",
      "     1      2   5.8382   0.0 4.8405 6.8359   True\n",
      "     1      3   8.4254   0.0 7.3697 9.4811   True\n",
      "     2      3   2.5872   0.0 1.2417 3.9327   True\n",
      "-------------------------------------------------\n"
     ]
    }
   ],
   "source": [
    "print(tukey)"
   ]
  },
  {
   "cell_type": "markdown",
   "id": "a9427adf",
   "metadata": {},
   "source": [
    "**Tüm colestrol seviyelerinin yüksek tansiyon ortalamarı birbirinden farklıdır**"
   ]
  },
  {
   "cell_type": "markdown",
   "id": "f3a84eb6",
   "metadata": {},
   "source": [
    "# 🩸 ap_hi ❌ gluc🍨"
   ]
  },
  {
   "cell_type": "code",
   "execution_count": 30,
   "id": "9698ba15",
   "metadata": {},
   "outputs": [
    {
     "data": {
      "image/png": "[encoded data removed]",
      "text/plain": [
       "<Figure size 560x420 with 1 Axes>"
      ]
     },
     "metadata": {},
     "output_type": "display_data"
    }
   ],
   "source": [
    "sns.boxplot(x = df.gluc, y = df.ap_hi, showmeans = True, meanprops={\"marker\":\"o\",\n",
    "                                                                    \"markerfacecolor\":\"white\", \n",
    "                                                                    \"markeredgecolor\":\"black\",\n",
    "                                                                    \"markersize\":\"10\"});"
   ]
  },
  {
   "cell_type": "code",
   "execution_count": 31,
   "id": "69a97190",
   "metadata": {},
   "outputs": [
    {
     "data": {
      "text/html": [
       "<div>\n",
       "<style scoped>\n",
       "    .dataframe tbody tr th:only-of-type {\n",
       "        vertical-align: middle;\n",
       "    }\n",
       "\n",
       "    .dataframe tbody tr th {\n",
       "        vertical-align: top;\n",
       "    }\n",
       "\n",
       "    .dataframe thead th {\n",
       "        text-align: right;\n",
       "    }\n",
       "</style>\n",
       "<table border=\"1\" class=\"dataframe\">\n",
       "  <thead>\n",
       "    <tr style=\"text-align: right;\">\n",
       "      <th></th>\n",
       "      <th>count</th>\n",
       "      <th>mean</th>\n",
       "      <th>std</th>\n",
       "      <th>min</th>\n",
       "      <th>25%</th>\n",
       "      <th>50%</th>\n",
       "      <th>75%</th>\n",
       "      <th>max</th>\n",
       "    </tr>\n",
       "    <tr>\n",
       "      <th>gluc</th>\n",
       "      <th></th>\n",
       "      <th></th>\n",
       "      <th></th>\n",
       "      <th></th>\n",
       "      <th></th>\n",
       "      <th></th>\n",
       "      <th></th>\n",
       "      <th></th>\n",
       "    </tr>\n",
       "  </thead>\n",
       "  <tbody>\n",
       "    <tr>\n",
       "      <th>1</th>\n",
       "      <td>8474.0</td>\n",
       "      <td>124.956927</td>\n",
       "      <td>14.466814</td>\n",
       "      <td>80.0</td>\n",
       "      <td>120.0</td>\n",
       "      <td>120.0</td>\n",
       "      <td>130.0</td>\n",
       "      <td>168.0</td>\n",
       "    </tr>\n",
       "    <tr>\n",
       "      <th>2</th>\n",
       "      <td>741.0</td>\n",
       "      <td>128.450742</td>\n",
       "      <td>16.507224</td>\n",
       "      <td>90.0</td>\n",
       "      <td>120.0</td>\n",
       "      <td>125.0</td>\n",
       "      <td>140.0</td>\n",
       "      <td>162.0</td>\n",
       "    </tr>\n",
       "    <tr>\n",
       "      <th>3</th>\n",
       "      <td>785.0</td>\n",
       "      <td>129.029299</td>\n",
       "      <td>13.756646</td>\n",
       "      <td>90.0</td>\n",
       "      <td>120.0</td>\n",
       "      <td>130.0</td>\n",
       "      <td>140.0</td>\n",
       "      <td>160.0</td>\n",
       "    </tr>\n",
       "  </tbody>\n",
       "</table>\n",
       "</div>"
      ],
      "text/plain": [
       "       count        mean        std   min    25%    50%    75%    max\n",
       "gluc                                                                 \n",
       "1     8474.0  124.956927  14.466814  80.0  120.0  120.0  130.0  168.0\n",
       "2      741.0  128.450742  16.507224  90.0  120.0  125.0  140.0  162.0\n",
       "3      785.0  129.029299  13.756646  90.0  120.0  130.0  140.0  160.0"
      ]
     },
     "execution_count": 31,
     "metadata": {},
     "output_type": "execute_result"
    }
   ],
   "source": [
    "df.groupby(\"gluc\").ap_hi.describe()"
   ]
  },
  {
   "cell_type": "markdown",
   "id": "74d54594",
   "metadata": {},
   "source": [
    "**Ortalamalar arasında istatiksel olarak bir fark var mı ınceleyelım**"
   ]
  },
  {
   "cell_type": "raw",
   "id": "156b243e",
   "metadata": {},
   "source": [
    "H0 : all mean are equal (mu1 = mu2 = mu3)\n",
    "H1 : at least one mean is different"
   ]
  },
  {
   "cell_type": "code",
   "execution_count": 32,
   "id": "39d7cbdc",
   "metadata": {},
   "outputs": [
    {
     "data": {
      "text/plain": [
       "F_onewayResult(statistic=44.0602151254398, pvalue=8.886573989793138e-20)"
      ]
     },
     "execution_count": 32,
     "metadata": {},
     "output_type": "execute_result"
    }
   ],
   "source": [
    "stats.f_oneway(df[df[\"gluc\"]==1][\"ap_hi\"],\n",
    "               df[df[\"gluc\"]==2][\"ap_hi\"],\n",
    "               df[df[\"gluc\"]==3][\"ap_hi\"])"
   ]
  },
  {
   "cell_type": "markdown",
   "id": "fa26a102",
   "metadata": {},
   "source": [
    "**pvalue < 0.05 oldugu için için H0 hipotezini reddediriz. En az biri farklıdır. Peki hangisi ?**"
   ]
  },
  {
   "cell_type": "code",
   "execution_count": 33,
   "id": "a9143c5b",
   "metadata": {},
   "outputs": [],
   "source": [
    "multicomp = MultiComparison(df.ap_hi, df.gluc)"
   ]
  },
  {
   "cell_type": "code",
   "execution_count": 34,
   "id": "626e4220",
   "metadata": {},
   "outputs": [],
   "source": [
    "tukey = multicomp.tukeyhsd(alpha = 0.05)"
   ]
  },
  {
   "cell_type": "code",
   "execution_count": 35,
   "id": "b549729f",
   "metadata": {},
   "outputs": [
    {
     "name": "stdout",
     "output_type": "stream",
     "text": [
      "Multiple Comparison of Means - Tukey HSD, FWER=0.05\n",
      "===================================================\n",
      "group1 group2 meandiff p-adj   lower  upper  reject\n",
      "---------------------------------------------------\n",
      "     1      2   3.4938    0.0  2.1851 4.8025   True\n",
      "     1      3   4.0724    0.0  2.7979 5.3469   True\n",
      "     2      3   0.5786 0.7184 -1.1712 2.3283  False\n",
      "---------------------------------------------------\n"
     ]
    }
   ],
   "source": [
    "print(tukey)"
   ]
  },
  {
   "cell_type": "markdown",
   "id": "d08a84fe",
   "metadata": {},
   "source": [
    "**1 ve 3.seviyedeki şeker hastalarının yüksek tansiyonlar ile ortalamalarının aynıdır**"
   ]
  },
  {
   "cell_type": "markdown",
   "id": "7d3dcfc3",
   "metadata": {},
   "source": [
    "# 🩸 ap_hi ❌ smoke🚬"
   ]
  },
  {
   "cell_type": "code",
   "execution_count": 36,
   "id": "6d420116",
   "metadata": {},
   "outputs": [
    {
     "data": {
      "image/png": "[encoded data removed]",
      "text/plain": [
       "<Figure size 560x420 with 1 Axes>"
      ]
     },
     "metadata": {},
     "output_type": "display_data"
    }
   ],
   "source": [
    "sns.boxplot(x = df.smoke, y = df.ap_hi, showmeans = True, meanprops={\"marker\":\"o\",\n",
    "                                                                    \"markerfacecolor\":\"white\", \n",
    "                                                                    \"markeredgecolor\":\"black\",\n",
    "                                                                    \"markersize\":\"10\"});"
   ]
  },
  {
   "cell_type": "code",
   "execution_count": 37,
   "id": "b5aa71fb",
   "metadata": {},
   "outputs": [
    {
     "data": {
      "text/html": [
       "<div>\n",
       "<style scoped>\n",
       "    .dataframe tbody tr th:only-of-type {\n",
       "        vertical-align: middle;\n",
       "    }\n",
       "\n",
       "    .dataframe tbody tr th {\n",
       "        vertical-align: top;\n",
       "    }\n",
       "\n",
       "    .dataframe thead th {\n",
       "        text-align: right;\n",
       "    }\n",
       "</style>\n",
       "<table border=\"1\" class=\"dataframe\">\n",
       "  <thead>\n",
       "    <tr style=\"text-align: right;\">\n",
       "      <th></th>\n",
       "      <th>count</th>\n",
       "      <th>mean</th>\n",
       "      <th>std</th>\n",
       "      <th>min</th>\n",
       "      <th>25%</th>\n",
       "      <th>50%</th>\n",
       "      <th>75%</th>\n",
       "      <th>max</th>\n",
       "    </tr>\n",
       "    <tr>\n",
       "      <th>smoke</th>\n",
       "      <th></th>\n",
       "      <th></th>\n",
       "      <th></th>\n",
       "      <th></th>\n",
       "      <th></th>\n",
       "      <th></th>\n",
       "      <th></th>\n",
       "      <th></th>\n",
       "    </tr>\n",
       "  </thead>\n",
       "  <tbody>\n",
       "    <tr>\n",
       "      <th>0</th>\n",
       "      <td>9110.0</td>\n",
       "      <td>125.444018</td>\n",
       "      <td>14.598889</td>\n",
       "      <td>80.0</td>\n",
       "      <td>120.0</td>\n",
       "      <td>120.0</td>\n",
       "      <td>140.0</td>\n",
       "      <td>168.0</td>\n",
       "    </tr>\n",
       "    <tr>\n",
       "      <th>1</th>\n",
       "      <td>890.0</td>\n",
       "      <td>126.471910</td>\n",
       "      <td>14.991328</td>\n",
       "      <td>80.0</td>\n",
       "      <td>120.0</td>\n",
       "      <td>120.0</td>\n",
       "      <td>140.0</td>\n",
       "      <td>160.0</td>\n",
       "    </tr>\n",
       "  </tbody>\n",
       "</table>\n",
       "</div>"
      ],
      "text/plain": [
       "        count        mean        std   min    25%    50%    75%    max\n",
       "smoke                                                                 \n",
       "0      9110.0  125.444018  14.598889  80.0  120.0  120.0  140.0  168.0\n",
       "1       890.0  126.471910  14.991328  80.0  120.0  120.0  140.0  160.0"
      ]
     },
     "execution_count": 37,
     "metadata": {},
     "output_type": "execute_result"
    }
   ],
   "source": [
    "df.groupby(\"smoke\").ap_hi.describe()"
   ]
  },
  {
   "cell_type": "markdown",
   "id": "c98cb6c9",
   "metadata": {},
   "source": [
    "**Sigara içen ve içmeyenler'in büyük tansiyonların ortalamaları arasında anlamı bir fark var mı yok mu ınceleyelım**"
   ]
  },
  {
   "cell_type": "raw",
   "id": "615124f1",
   "metadata": {},
   "source": [
    "H0: var_smoke1 = var_smoke0\n",
    "H1: var_smoke1 != var_smoke0\n",
    "alpa = 0.05"
   ]
  },
  {
   "cell_type": "code",
   "execution_count": 38,
   "id": "6b6c3acf",
   "metadata": {},
   "outputs": [
    {
     "data": {
      "text/plain": [
       "LeveneResult(statistic=3.9822695056954673, pvalue=0.04600865557733768)"
      ]
     },
     "execution_count": 38,
     "metadata": {},
     "output_type": "execute_result"
    }
   ],
   "source": [
    "stats.levene(df[df.smoke == 0].ap_hi, df[df.smoke == 1].ap_hi)"
   ]
  },
  {
   "cell_type": "markdown",
   "id": "95dc6f9d",
   "metadata": {},
   "source": [
    "**pvalue < 0.05 oldugu için varyanslar farklıdır diyebiliriz**"
   ]
  },
  {
   "cell_type": "raw",
   "id": "eb5b335e",
   "metadata": {},
   "source": [
    "Ho : mü1 = mü2\n",
    "H1 : mü1 =! mü2"
   ]
  },
  {
   "cell_type": "code",
   "execution_count": 139,
   "id": "da85843d",
   "metadata": {},
   "outputs": [
    {
     "data": {
      "text/plain": [
       "Ttest_indResult(statistic=-1.9568731623627307, pvalue=0.050624474853299795)"
      ]
     },
     "execution_count": 139,
     "metadata": {},
     "output_type": "execute_result"
    }
   ],
   "source": [
    "stats.ttest_ind(df[df[\"smoke\"]==0][\"ap_hi\"],df[df[\"smoke\"]==1][\"ap_hi\"], equal_var=False)"
   ]
  },
  {
   "cell_type": "markdown",
   "id": "8913750b",
   "metadata": {},
   "source": [
    "**pvalue > 0.05 cıktıgı için sigara ve kullanmayan kişilerin yüksek tansiyon ortalamaları istatiksel olarak birbiri ile aynıdır**"
   ]
  },
  {
   "cell_type": "markdown",
   "id": "b04de42c",
   "metadata": {},
   "source": [
    "# 🩸 ap_hi ❌ alco🍾"
   ]
  },
  {
   "cell_type": "code",
   "execution_count": 40,
   "id": "2b44157e",
   "metadata": {},
   "outputs": [
    {
     "data": {
      "image/png": "[encoded data removed]",
      "text/plain": [
       "<Figure size 560x420 with 1 Axes>"
      ]
     },
     "metadata": {},
     "output_type": "display_data"
    }
   ],
   "source": [
    "sns.boxplot(x = df.alco, y = df.ap_hi, showmeans = True, meanprops={\"marker\":\"o\",\n",
    "                                                                    \"markerfacecolor\":\"white\", \n",
    "                                                                    \"markeredgecolor\":\"black\",\n",
    "                                                                    \"markersize\":\"10\"});"
   ]
  },
  {
   "cell_type": "code",
   "execution_count": 41,
   "id": "6fa16534",
   "metadata": {},
   "outputs": [
    {
     "data": {
      "text/html": [
       "<div>\n",
       "<style scoped>\n",
       "    .dataframe tbody tr th:only-of-type {\n",
       "        vertical-align: middle;\n",
       "    }\n",
       "\n",
       "    .dataframe tbody tr th {\n",
       "        vertical-align: top;\n",
       "    }\n",
       "\n",
       "    .dataframe thead th {\n",
       "        text-align: right;\n",
       "    }\n",
       "</style>\n",
       "<table border=\"1\" class=\"dataframe\">\n",
       "  <thead>\n",
       "    <tr style=\"text-align: right;\">\n",
       "      <th></th>\n",
       "      <th>count</th>\n",
       "      <th>mean</th>\n",
       "      <th>std</th>\n",
       "      <th>min</th>\n",
       "      <th>25%</th>\n",
       "      <th>50%</th>\n",
       "      <th>75%</th>\n",
       "      <th>max</th>\n",
       "    </tr>\n",
       "    <tr>\n",
       "      <th>alco</th>\n",
       "      <th></th>\n",
       "      <th></th>\n",
       "      <th></th>\n",
       "      <th></th>\n",
       "      <th></th>\n",
       "      <th></th>\n",
       "      <th></th>\n",
       "      <th></th>\n",
       "    </tr>\n",
       "  </thead>\n",
       "  <tbody>\n",
       "    <tr>\n",
       "      <th>0</th>\n",
       "      <td>9454.0</td>\n",
       "      <td>125.440131</td>\n",
       "      <td>14.613290</td>\n",
       "      <td>80.0</td>\n",
       "      <td>120.0</td>\n",
       "      <td>120.0</td>\n",
       "      <td>140.0</td>\n",
       "      <td>168.0</td>\n",
       "    </tr>\n",
       "    <tr>\n",
       "      <th>1</th>\n",
       "      <td>546.0</td>\n",
       "      <td>127.186813</td>\n",
       "      <td>14.948409</td>\n",
       "      <td>80.0</td>\n",
       "      <td>120.0</td>\n",
       "      <td>120.0</td>\n",
       "      <td>140.0</td>\n",
       "      <td>165.0</td>\n",
       "    </tr>\n",
       "  </tbody>\n",
       "</table>\n",
       "</div>"
      ],
      "text/plain": [
       "       count        mean        std   min    25%    50%    75%    max\n",
       "alco                                                                 \n",
       "0     9454.0  125.440131  14.613290  80.0  120.0  120.0  140.0  168.0\n",
       "1      546.0  127.186813  14.948409  80.0  120.0  120.0  140.0  165.0"
      ]
     },
     "execution_count": 41,
     "metadata": {},
     "output_type": "execute_result"
    }
   ],
   "source": [
    "df.groupby(\"alco\").ap_hi.describe()"
   ]
  },
  {
   "cell_type": "markdown",
   "id": "a3fd062b",
   "metadata": {},
   "source": [
    "**Alkol içen ve içmeyenler'in büyük tansiyonların ortalamaları arasında anlamı bir fark var mı yok mu ınceleyelım**"
   ]
  },
  {
   "cell_type": "raw",
   "id": "f21a790b",
   "metadata": {},
   "source": [
    "H0: var_alcol1 = var_alcol0\n",
    "H1: var_alcol1 != var_alcol0\n",
    "alpa = 0.05"
   ]
  },
  {
   "cell_type": "code",
   "execution_count": 42,
   "id": "fdee56ed",
   "metadata": {},
   "outputs": [
    {
     "data": {
      "text/plain": [
       "LeveneResult(statistic=5.868366928189718, pvalue=0.015433000719866183)"
      ]
     },
     "execution_count": 42,
     "metadata": {},
     "output_type": "execute_result"
    }
   ],
   "source": [
    "stats.levene(df[df.alco == 0].ap_hi, df[df.alco == 1].ap_hi)"
   ]
  },
  {
   "cell_type": "markdown",
   "id": "35c4012b",
   "metadata": {},
   "source": [
    "**pvalue > 0.05 oldugu için varyanslar aynıdır diyebiliriz**"
   ]
  },
  {
   "cell_type": "raw",
   "id": "5a31f63f",
   "metadata": {},
   "source": [
    "Ho : mü1 = mü2\n",
    "H1 : mü1 =! mü2"
   ]
  },
  {
   "cell_type": "code",
   "execution_count": 140,
   "id": "016a34d2",
   "metadata": {},
   "outputs": [
    {
     "data": {
      "text/plain": [
       "Ttest_indResult(statistic=-2.712198874456187, pvalue=0.006695279716497735)"
      ]
     },
     "execution_count": 140,
     "metadata": {},
     "output_type": "execute_result"
    }
   ],
   "source": [
    "stats.ttest_ind(df[df[\"alco\"]==0][\"ap_hi\"],df[df[\"alco\"]==1][\"ap_hi\"], equal_var=True)"
   ]
  },
  {
   "cell_type": "markdown",
   "id": "f8e2720d",
   "metadata": {},
   "source": [
    "**pvalue < 0.05 oldugu için H0 hipotezini reddederiz. Yani istatiksel olarak alcol kullanma durumuna göre yüksek tansiyonun ortalamaları arasında herhangi bir bağ yoktur**"
   ]
  },
  {
   "cell_type": "markdown",
   "id": "d92e89ba",
   "metadata": {},
   "source": [
    "# 🩸 ap_hi ❌ active🚴"
   ]
  },
  {
   "cell_type": "code",
   "execution_count": 44,
   "id": "1bcf4bb4",
   "metadata": {},
   "outputs": [
    {
     "data": {
      "image/png": "[encoded data removed]",
      "text/plain": [
       "<Figure size 560x420 with 1 Axes>"
      ]
     },
     "metadata": {},
     "output_type": "display_data"
    }
   ],
   "source": [
    "sns.boxplot(x = df.active, y = df.ap_hi, showmeans = True, meanprops={\"marker\":\"o\",\n",
    "                                                                    \"markerfacecolor\":\"white\", \n",
    "                                                                    \"markeredgecolor\":\"black\",\n",
    "                                                                    \"markersize\":\"10\"});"
   ]
  },
  {
   "cell_type": "code",
   "execution_count": 45,
   "id": "32b35f0b",
   "metadata": {},
   "outputs": [
    {
     "data": {
      "text/html": [
       "<div>\n",
       "<style scoped>\n",
       "    .dataframe tbody tr th:only-of-type {\n",
       "        vertical-align: middle;\n",
       "    }\n",
       "\n",
       "    .dataframe tbody tr th {\n",
       "        vertical-align: top;\n",
       "    }\n",
       "\n",
       "    .dataframe thead th {\n",
       "        text-align: right;\n",
       "    }\n",
       "</style>\n",
       "<table border=\"1\" class=\"dataframe\">\n",
       "  <thead>\n",
       "    <tr style=\"text-align: right;\">\n",
       "      <th></th>\n",
       "      <th>count</th>\n",
       "      <th>mean</th>\n",
       "      <th>std</th>\n",
       "      <th>min</th>\n",
       "      <th>25%</th>\n",
       "      <th>50%</th>\n",
       "      <th>75%</th>\n",
       "      <th>max</th>\n",
       "    </tr>\n",
       "    <tr>\n",
       "      <th>active</th>\n",
       "      <th></th>\n",
       "      <th></th>\n",
       "      <th></th>\n",
       "      <th></th>\n",
       "      <th></th>\n",
       "      <th></th>\n",
       "      <th></th>\n",
       "      <th></th>\n",
       "    </tr>\n",
       "  </thead>\n",
       "  <tbody>\n",
       "    <tr>\n",
       "      <th>0</th>\n",
       "      <td>1900.0</td>\n",
       "      <td>125.328947</td>\n",
       "      <td>14.517470</td>\n",
       "      <td>80.0</td>\n",
       "      <td>120.0</td>\n",
       "      <td>120.0</td>\n",
       "      <td>130.0</td>\n",
       "      <td>165.0</td>\n",
       "    </tr>\n",
       "    <tr>\n",
       "      <th>1</th>\n",
       "      <td>8100.0</td>\n",
       "      <td>125.583951</td>\n",
       "      <td>14.664634</td>\n",
       "      <td>80.0</td>\n",
       "      <td>120.0</td>\n",
       "      <td>120.0</td>\n",
       "      <td>140.0</td>\n",
       "      <td>168.0</td>\n",
       "    </tr>\n",
       "  </tbody>\n",
       "</table>\n",
       "</div>"
      ],
      "text/plain": [
       "         count        mean        std   min    25%    50%    75%    max\n",
       "active                                                                 \n",
       "0       1900.0  125.328947  14.517470  80.0  120.0  120.0  130.0  165.0\n",
       "1       8100.0  125.583951  14.664634  80.0  120.0  120.0  140.0  168.0"
      ]
     },
     "execution_count": 45,
     "metadata": {},
     "output_type": "execute_result"
    }
   ],
   "source": [
    "df.groupby(\"active\").ap_hi.describe()"
   ]
  },
  {
   "cell_type": "markdown",
   "id": "cbb9d6ed",
   "metadata": {},
   "source": [
    "**Aktif olanların ve olmayanların büyük tansiyonların ortalamaları arasında anlamı bir fark var mı yok mu ınceleyelım**"
   ]
  },
  {
   "cell_type": "raw",
   "id": "610caed1",
   "metadata": {},
   "source": [
    "H0: var_active1 = var_active0\n",
    "H1: var_active1 != var_active0\n",
    "alpa = 0.05"
   ]
  },
  {
   "cell_type": "code",
   "execution_count": 46,
   "id": "86344773",
   "metadata": {},
   "outputs": [
    {
     "data": {
      "text/plain": [
       "LeveneResult(statistic=1.420052391360639, pvalue=0.23342306592128992)"
      ]
     },
     "execution_count": 46,
     "metadata": {},
     "output_type": "execute_result"
    }
   ],
   "source": [
    "stats.levene(df[df.active == 0].ap_hi, df[df.active == 1].ap_hi)"
   ]
  },
  {
   "cell_type": "markdown",
   "id": "244d9ef8",
   "metadata": {},
   "source": [
    "**pvalue > 0.05 oldugu için varyanslar aynıdır diyebiliriz**"
   ]
  },
  {
   "cell_type": "raw",
   "id": "d9bf0d18",
   "metadata": {},
   "source": [
    "Ho : mü1 = mü2\n",
    "H1 : mü1 =! mü2"
   ]
  },
  {
   "cell_type": "code",
   "execution_count": 47,
   "id": "dbdb6009",
   "metadata": {},
   "outputs": [
    {
     "data": {
      "text/plain": [
       "Ttest_indResult(statistic=-0.6834693156334005, pvalue=0.49432617137269974)"
      ]
     },
     "execution_count": 47,
     "metadata": {},
     "output_type": "execute_result"
    }
   ],
   "source": [
    "stats.ttest_ind(df[df[\"active\"]==0][\"ap_hi\"],df[df[\"active\"]==1][\"ap_hi\"], equal_var=True)"
   ]
  },
  {
   "cell_type": "markdown",
   "id": "837cf52d",
   "metadata": {},
   "source": [
    "**pvalue > 0.05 oldugu için H0 hipotezini kabul ederiz. Yani Aktif olanlar ile olmayanlar arasındaki yüksek tansiyon ortalamarı arasında anlamlı bir fark yoktur**"
   ]
  },
  {
   "cell_type": "markdown",
   "id": "d62b4cc9",
   "metadata": {},
   "source": [
    "# 🩸 ap_hi ❌ cardio❤️"
   ]
  },
  {
   "cell_type": "code",
   "execution_count": 48,
   "id": "cce621db",
   "metadata": {},
   "outputs": [
    {
     "data": {
      "image/png": "[encoded data removed]",
      "text/plain": [
       "<Figure size 560x420 with 1 Axes>"
      ]
     },
     "metadata": {},
     "output_type": "display_data"
    }
   ],
   "source": [
    "sns.boxplot(x = df.cardio, y = df.ap_hi, showmeans = True, meanprops={\"marker\":\"o\",\n",
    "                                                                    \"markerfacecolor\":\"white\", \n",
    "                                                                    \"markeredgecolor\":\"black\",\n",
    "                                                                    \"markersize\":\"10\"});"
   ]
  },
  {
   "cell_type": "code",
   "execution_count": 49,
   "id": "396fdeb2",
   "metadata": {},
   "outputs": [
    {
     "data": {
      "text/html": [
       "<div>\n",
       "<style scoped>\n",
       "    .dataframe tbody tr th:only-of-type {\n",
       "        vertical-align: middle;\n",
       "    }\n",
       "\n",
       "    .dataframe tbody tr th {\n",
       "        vertical-align: top;\n",
       "    }\n",
       "\n",
       "    .dataframe thead th {\n",
       "        text-align: right;\n",
       "    }\n",
       "</style>\n",
       "<table border=\"1\" class=\"dataframe\">\n",
       "  <thead>\n",
       "    <tr style=\"text-align: right;\">\n",
       "      <th></th>\n",
       "      <th>count</th>\n",
       "      <th>mean</th>\n",
       "      <th>std</th>\n",
       "      <th>min</th>\n",
       "      <th>25%</th>\n",
       "      <th>50%</th>\n",
       "      <th>75%</th>\n",
       "      <th>max</th>\n",
       "    </tr>\n",
       "    <tr>\n",
       "      <th>cardio</th>\n",
       "      <th></th>\n",
       "      <th></th>\n",
       "      <th></th>\n",
       "      <th></th>\n",
       "      <th></th>\n",
       "      <th></th>\n",
       "      <th></th>\n",
       "      <th></th>\n",
       "    </tr>\n",
       "  </thead>\n",
       "  <tbody>\n",
       "    <tr>\n",
       "      <th>0</th>\n",
       "      <td>5124.0</td>\n",
       "      <td>119.346799</td>\n",
       "      <td>11.663333</td>\n",
       "      <td>80.0</td>\n",
       "      <td>110.0</td>\n",
       "      <td>120.0</td>\n",
       "      <td>120.0</td>\n",
       "      <td>164.0</td>\n",
       "    </tr>\n",
       "    <tr>\n",
       "      <th>1</th>\n",
       "      <td>4876.0</td>\n",
       "      <td>132.038966</td>\n",
       "      <td>14.624536</td>\n",
       "      <td>80.0</td>\n",
       "      <td>120.0</td>\n",
       "      <td>130.0</td>\n",
       "      <td>140.0</td>\n",
       "      <td>168.0</td>\n",
       "    </tr>\n",
       "  </tbody>\n",
       "</table>\n",
       "</div>"
      ],
      "text/plain": [
       "         count        mean        std   min    25%    50%    75%    max\n",
       "cardio                                                                 \n",
       "0       5124.0  119.346799  11.663333  80.0  110.0  120.0  120.0  164.0\n",
       "1       4876.0  132.038966  14.624536  80.0  120.0  130.0  140.0  168.0"
      ]
     },
     "execution_count": 49,
     "metadata": {},
     "output_type": "execute_result"
    }
   ],
   "source": [
    "df.groupby(\"cardio\").ap_hi.describe()"
   ]
  },
  {
   "cell_type": "markdown",
   "id": "0f9afba7",
   "metadata": {},
   "source": [
    "**Cardiovasküler Hastası olan ve olmayan kişilerin büyük tansiyonların ortalamaları arasında anlamı bir fark var mı yok mu ınceleyelım**"
   ]
  },
  {
   "cell_type": "raw",
   "id": "d26d18df",
   "metadata": {},
   "source": [
    "H0: var_cardio1 = var_cardio0\n",
    "H1: var_cardio1 != var_cardio0\n",
    "alpa = 0.05"
   ]
  },
  {
   "cell_type": "code",
   "execution_count": 50,
   "id": "4c7facae",
   "metadata": {},
   "outputs": [
    {
     "data": {
      "text/plain": [
       "LeveneResult(statistic=766.7530392527148, pvalue=1.1284470348079675e-162)"
      ]
     },
     "execution_count": 50,
     "metadata": {},
     "output_type": "execute_result"
    }
   ],
   "source": [
    "stats.levene(df[df.cardio == 0].ap_hi, df[df.cardio == 1].ap_hi)"
   ]
  },
  {
   "cell_type": "markdown",
   "id": "19ec9f6c",
   "metadata": {},
   "source": [
    "**pvalue neredeyse 0 oldugu için varyanslar farklıdır diyebiliriz**"
   ]
  },
  {
   "cell_type": "raw",
   "id": "7879d546",
   "metadata": {},
   "source": [
    "Ho : mü1 = mü2\n",
    "H1 : mü1 =! mü2"
   ]
  },
  {
   "cell_type": "code",
   "execution_count": 51,
   "id": "83e34564",
   "metadata": {},
   "outputs": [
    {
     "data": {
      "text/plain": [
       "Ttest_indResult(statistic=-47.83150263593477, pvalue=0.0)"
      ]
     },
     "execution_count": 51,
     "metadata": {},
     "output_type": "execute_result"
    }
   ],
   "source": [
    "stats.ttest_ind(df[df[\"cardio\"]==0][\"ap_hi\"],df[df[\"cardio\"]==1][\"ap_hi\"], equal_var=False)"
   ]
  },
  {
   "cell_type": "markdown",
   "id": "bc5b34bb",
   "metadata": {},
   "source": [
    "**pvalue 0 oldugu için ortalamalar farklıdır dıyebılırız**"
   ]
  },
  {
   "cell_type": "markdown",
   "id": "e6abfafa",
   "metadata": {},
   "source": [
    "# 🩸 ap_lo"
   ]
  },
  {
   "cell_type": "code",
   "execution_count": 52,
   "id": "60053fc2",
   "metadata": {},
   "outputs": [
    {
     "data": {
      "text/plain": [
       "count    10000.00000\n",
       "mean        80.94610\n",
       "std          8.79057\n",
       "min         45.00000\n",
       "25%         80.00000\n",
       "50%         80.00000\n",
       "75%         90.00000\n",
       "max        110.00000\n",
       "Name: ap_lo, dtype: float64"
      ]
     },
     "execution_count": 52,
     "metadata": {},
     "output_type": "execute_result"
    }
   ],
   "source": [
    "df.describe().ap_lo"
   ]
  },
  {
   "cell_type": "code",
   "execution_count": 53,
   "id": "304f5a10",
   "metadata": {},
   "outputs": [],
   "source": [
    "Q1 = np.percentile(df.ap_lo, 25)\n",
    "Q3 = np.percentile(df.ap_lo, 75)\n",
    "IQR = stats.iqr(df.ap_lo)"
   ]
  },
  {
   "cell_type": "code",
   "execution_count": 54,
   "id": "fc751736",
   "metadata": {},
   "outputs": [
    {
     "data": {
      "text/plain": [
       "65.0"
      ]
     },
     "execution_count": 54,
     "metadata": {},
     "output_type": "execute_result"
    }
   ],
   "source": [
    "lower_limit = Q1 - 1.5 * IQR\n",
    "lower_limit"
   ]
  },
  {
   "cell_type": "markdown",
   "id": "1a6eea51",
   "metadata": {},
   "source": [
    "**Alt Limit**"
   ]
  },
  {
   "cell_type": "code",
   "execution_count": 55,
   "id": "6226d599",
   "metadata": {},
   "outputs": [
    {
     "data": {
      "text/plain": [
       "105.0"
      ]
     },
     "execution_count": 55,
     "metadata": {},
     "output_type": "execute_result"
    }
   ],
   "source": [
    "upper_limit = Q3 + 1.5 * IQR\n",
    "upper_limit"
   ]
  },
  {
   "cell_type": "markdown",
   "id": "3f08e37f",
   "metadata": {},
   "source": [
    "**Üst limit**"
   ]
  },
  {
   "cell_type": "code",
   "execution_count": 56,
   "id": "22ff6d54",
   "metadata": {},
   "outputs": [
    {
     "data": {
      "image/png": "[encoded data removed]",
      "text/plain": [
       "<Figure size 560x420 with 1 Axes>"
      ]
     },
     "metadata": {},
     "output_type": "display_data"
    }
   ],
   "source": [
    "sns.boxplot(df.ap_lo);"
   ]
  },
  {
   "cell_type": "markdown",
   "id": "3f971b8a",
   "metadata": {},
   "source": [
    "**Ortalama 81 olabilir mi onu inceleyelim**"
   ]
  },
  {
   "cell_type": "raw",
   "id": "bbb6eae5",
   "metadata": {},
   "source": [
    "H0 : mü = 81\n",
    "H1 : mü > 81"
   ]
  },
  {
   "cell_type": "code",
   "execution_count": 142,
   "id": "abbb5230",
   "metadata": {},
   "outputs": [
    {
     "data": {
      "text/plain": [
       "Ttest_1sampResult(statistic=-0.6131570484567275, pvalue=0.7301067759711496)"
      ]
     },
     "execution_count": 142,
     "metadata": {},
     "output_type": "execute_result"
    }
   ],
   "source": [
    "stats.ttest_1samp(df.ap_lo, 81, alternative=\"greater\")"
   ]
  },
  {
   "cell_type": "markdown",
   "id": "16752fdb",
   "metadata": {},
   "source": [
    "**%95 güvenirlikte incelediğimizde pvalue > alpha oldugundan H0 hipotezini kabul ederiz. Yani ortalama 81 olabilir**"
   ]
  },
  {
   "cell_type": "code",
   "execution_count": 58,
   "id": "2b59006a",
   "metadata": {},
   "outputs": [
    {
     "data": {
      "text/plain": [
       "(80.70533024858604, 81.18686975141397)"
      ]
     },
     "execution_count": 58,
     "metadata": {},
     "output_type": "execute_result"
    }
   ],
   "source": [
    "sem = df.ap_hi.sem()\n",
    "stats.t.interval(0.90, len(df.ap_lo) - 1, df.ap_lo.mean(), sem)"
   ]
  },
  {
   "cell_type": "markdown",
   "id": "4a4271a4",
   "metadata": {},
   "source": [
    "**Ortalama uzunluk %90 güvenirlikte 80.7 ile 81.1 arasındadır**"
   ]
  },
  {
   "cell_type": "markdown",
   "id": "06001eb9",
   "metadata": {},
   "source": [
    "# 🩸 ap_lo ❌ Gender👩👨"
   ]
  },
  {
   "cell_type": "code",
   "execution_count": 59,
   "id": "db86cf20",
   "metadata": {},
   "outputs": [
    {
     "data": {
      "image/png": "[encoded data removed]",
      "text/plain": [
       "<Figure size 560x420 with 1 Axes>"
      ]
     },
     "metadata": {},
     "output_type": "display_data"
    }
   ],
   "source": [
    "ax = sns.boxplot(y = df.ap_lo,x =  df.gender, showmeans = True, meanprops = {\"marker\" : \"o\",\n",
    "                                                      \"markerfacecolor\" : \"white\",\n",
    "                                                      \"markeredgecolor\" : \"red\",\n",
    "                                                      \"markersize\" : 10})\n",
    "ax.set_xticklabels([\"Female\", \"Male\"])\n",
    "ax.set_ylabel(\"Height(cm)\");"
   ]
  },
  {
   "cell_type": "code",
   "execution_count": 60,
   "id": "82f6cdfa",
   "metadata": {},
   "outputs": [
    {
     "data": {
      "text/html": [
       "<div>\n",
       "<style scoped>\n",
       "    .dataframe tbody tr th:only-of-type {\n",
       "        vertical-align: middle;\n",
       "    }\n",
       "\n",
       "    .dataframe tbody tr th {\n",
       "        vertical-align: top;\n",
       "    }\n",
       "\n",
       "    .dataframe thead th {\n",
       "        text-align: right;\n",
       "    }\n",
       "</style>\n",
       "<table border=\"1\" class=\"dataframe\">\n",
       "  <thead>\n",
       "    <tr style=\"text-align: right;\">\n",
       "      <th></th>\n",
       "      <th>count</th>\n",
       "      <th>mean</th>\n",
       "      <th>std</th>\n",
       "      <th>min</th>\n",
       "      <th>25%</th>\n",
       "      <th>50%</th>\n",
       "      <th>75%</th>\n",
       "      <th>max</th>\n",
       "    </tr>\n",
       "    <tr>\n",
       "      <th>gender</th>\n",
       "      <th></th>\n",
       "      <th></th>\n",
       "      <th></th>\n",
       "      <th></th>\n",
       "      <th></th>\n",
       "      <th></th>\n",
       "      <th></th>\n",
       "      <th></th>\n",
       "    </tr>\n",
       "  </thead>\n",
       "  <tbody>\n",
       "    <tr>\n",
       "      <th>1</th>\n",
       "      <td>6507.0</td>\n",
       "      <td>80.612725</td>\n",
       "      <td>8.924195</td>\n",
       "      <td>45.0</td>\n",
       "      <td>80.0</td>\n",
       "      <td>80.0</td>\n",
       "      <td>90.0</td>\n",
       "      <td>110.0</td>\n",
       "    </tr>\n",
       "    <tr>\n",
       "      <th>2</th>\n",
       "      <td>3493.0</td>\n",
       "      <td>81.567134</td>\n",
       "      <td>8.502535</td>\n",
       "      <td>50.0</td>\n",
       "      <td>80.0</td>\n",
       "      <td>80.0</td>\n",
       "      <td>90.0</td>\n",
       "      <td>110.0</td>\n",
       "    </tr>\n",
       "  </tbody>\n",
       "</table>\n",
       "</div>"
      ],
      "text/plain": [
       "         count       mean       std   min   25%   50%   75%    max\n",
       "gender                                                            \n",
       "1       6507.0  80.612725  8.924195  45.0  80.0  80.0  90.0  110.0\n",
       "2       3493.0  81.567134  8.502535  50.0  80.0  80.0  90.0  110.0"
      ]
     },
     "execution_count": 60,
     "metadata": {},
     "output_type": "execute_result"
    }
   ],
   "source": [
    "df.groupby(\"gender\").ap_lo.describe()"
   ]
  },
  {
   "cell_type": "raw",
   "id": "ea620b01",
   "metadata": {},
   "source": [
    "H0: var_female = var_male\n",
    "H1: var_female != var_male\n",
    "alpa = 0.05"
   ]
  },
  {
   "cell_type": "code",
   "execution_count": 61,
   "id": "45717b50",
   "metadata": {},
   "outputs": [
    {
     "data": {
      "text/plain": [
       "LeveneResult(statistic=1.4555558509549695, pvalue=0.2276671034543365)"
      ]
     },
     "execution_count": 61,
     "metadata": {},
     "output_type": "execute_result"
    }
   ],
   "source": [
    "stats.levene(df[df.gender == 1].ap_hi, df[df.gender == 2].ap_hi)"
   ]
  },
  {
   "cell_type": "markdown",
   "id": "a67ddb91",
   "metadata": {},
   "source": [
    "**pvalue > 0.05 oldugu için varyanslar aynıdır diyebiliriz**"
   ]
  },
  {
   "cell_type": "raw",
   "id": "197411db",
   "metadata": {},
   "source": [
    "Ho : mü1 = mü2\n",
    "H1 : mü1 =! mü2"
   ]
  },
  {
   "cell_type": "code",
   "execution_count": 62,
   "id": "906619f0",
   "metadata": {},
   "outputs": [
    {
     "data": {
      "text/plain": [
       "Ttest_indResult(statistic=-5.807074283356783, pvalue=6.551233420774094e-09)"
      ]
     },
     "execution_count": 62,
     "metadata": {},
     "output_type": "execute_result"
    }
   ],
   "source": [
    "stats.ttest_ind(df[df.gender == 1].ap_hi, df[df.gender == 2].ap_hi, equal_var=True)"
   ]
  },
  {
   "cell_type": "markdown",
   "id": "df54a410",
   "metadata": {},
   "source": [
    "**pvalue < 0.05 oldugu için  H0 hipotezi reddedilir küçük tansiyonları farklıdır**"
   ]
  },
  {
   "cell_type": "markdown",
   "id": "533e88b7",
   "metadata": {},
   "source": [
    "# 🩸 ap_lo ❌ cholesterol😷"
   ]
  },
  {
   "cell_type": "code",
   "execution_count": 63,
   "id": "0a1d9a6e",
   "metadata": {},
   "outputs": [
    {
     "data": {
      "image/png": "[encoded data removed]",
      "text/plain": [
       "<Figure size 560x420 with 1 Axes>"
      ]
     },
     "metadata": {},
     "output_type": "display_data"
    }
   ],
   "source": [
    "ax = sns.boxplot(y = df.ap_lo,x =  df.cholesterol, showmeans = True, meanprops = {\"marker\" : \"o\",\n",
    "                                                      \"markerfacecolor\" : \"white\",\n",
    "                                                      \"markeredgecolor\" : \"red\",\n",
    "                                                      \"markersize\" : 10})"
   ]
  },
  {
   "cell_type": "code",
   "execution_count": 64,
   "id": "491cdd39",
   "metadata": {},
   "outputs": [
    {
     "data": {
      "text/html": [
       "<div>\n",
       "<style scoped>\n",
       "    .dataframe tbody tr th:only-of-type {\n",
       "        vertical-align: middle;\n",
       "    }\n",
       "\n",
       "    .dataframe tbody tr th {\n",
       "        vertical-align: top;\n",
       "    }\n",
       "\n",
       "    .dataframe thead th {\n",
       "        text-align: right;\n",
       "    }\n",
       "</style>\n",
       "<table border=\"1\" class=\"dataframe\">\n",
       "  <thead>\n",
       "    <tr style=\"text-align: right;\">\n",
       "      <th></th>\n",
       "      <th>count</th>\n",
       "      <th>mean</th>\n",
       "      <th>std</th>\n",
       "      <th>min</th>\n",
       "      <th>25%</th>\n",
       "      <th>50%</th>\n",
       "      <th>75%</th>\n",
       "      <th>max</th>\n",
       "    </tr>\n",
       "    <tr>\n",
       "      <th>cholesterol</th>\n",
       "      <th></th>\n",
       "      <th></th>\n",
       "      <th></th>\n",
       "      <th></th>\n",
       "      <th></th>\n",
       "      <th></th>\n",
       "      <th></th>\n",
       "      <th></th>\n",
       "    </tr>\n",
       "  </thead>\n",
       "  <tbody>\n",
       "    <tr>\n",
       "      <th>1</th>\n",
       "      <td>7506.0</td>\n",
       "      <td>80.116041</td>\n",
       "      <td>8.525526</td>\n",
       "      <td>45.0</td>\n",
       "      <td>80.0</td>\n",
       "      <td>80.0</td>\n",
       "      <td>80.0</td>\n",
       "      <td>110.0</td>\n",
       "    </tr>\n",
       "    <tr>\n",
       "      <th>2</th>\n",
       "      <td>1329.0</td>\n",
       "      <td>82.796840</td>\n",
       "      <td>9.613351</td>\n",
       "      <td>50.0</td>\n",
       "      <td>80.0</td>\n",
       "      <td>80.0</td>\n",
       "      <td>90.0</td>\n",
       "      <td>110.0</td>\n",
       "    </tr>\n",
       "    <tr>\n",
       "      <th>3</th>\n",
       "      <td>1165.0</td>\n",
       "      <td>84.182833</td>\n",
       "      <td>8.419217</td>\n",
       "      <td>59.0</td>\n",
       "      <td>80.0</td>\n",
       "      <td>80.0</td>\n",
       "      <td>90.0</td>\n",
       "      <td>110.0</td>\n",
       "    </tr>\n",
       "  </tbody>\n",
       "</table>\n",
       "</div>"
      ],
      "text/plain": [
       "              count       mean       std   min   25%   50%   75%    max\n",
       "cholesterol                                                            \n",
       "1            7506.0  80.116041  8.525526  45.0  80.0  80.0  80.0  110.0\n",
       "2            1329.0  82.796840  9.613351  50.0  80.0  80.0  90.0  110.0\n",
       "3            1165.0  84.182833  8.419217  59.0  80.0  80.0  90.0  110.0"
      ]
     },
     "execution_count": 64,
     "metadata": {},
     "output_type": "execute_result"
    }
   ],
   "source": [
    "df.groupby(\"cholesterol\").ap_lo.describe()"
   ]
  },
  {
   "cell_type": "markdown",
   "id": "61c94510",
   "metadata": {},
   "source": [
    "**Kolestrol seviyelerine göre düşük tansiyon ortalamarında anlamlı bir fark mı inceleyelim**"
   ]
  },
  {
   "cell_type": "raw",
   "id": "ddd2f2eb",
   "metadata": {},
   "source": [
    "H0 : all mean are equal (mu1 = mu2 = mu3)\n",
    "H1 : at least one mean is different"
   ]
  },
  {
   "cell_type": "code",
   "execution_count": 65,
   "id": "370847ce",
   "metadata": {},
   "outputs": [
    {
     "data": {
      "text/plain": [
       "F_onewayResult(statistic=146.00513693120493, pvalue=3.1565452211097865e-63)"
      ]
     },
     "execution_count": 65,
     "metadata": {},
     "output_type": "execute_result"
    }
   ],
   "source": [
    "stats.f_oneway(df[df[\"cholesterol\"]==1][\"ap_lo\"],\n",
    "               df[df[\"cholesterol\"]==2][\"ap_lo\"],\n",
    "               df[df[\"cholesterol\"]==3][\"ap_lo\"])"
   ]
  },
  {
   "cell_type": "markdown",
   "id": "b0d6815e",
   "metadata": {},
   "source": [
    "**pvalue < 0.05 oldugu  için H0 hipotezini reddediriz. En az biri farklıdır. Peki hangisi ?**"
   ]
  },
  {
   "cell_type": "code",
   "execution_count": 66,
   "id": "ba385e4c",
   "metadata": {},
   "outputs": [],
   "source": [
    "multicomp = MultiComparison(df.ap_lo, df.cholesterol)"
   ]
  },
  {
   "cell_type": "code",
   "execution_count": 67,
   "id": "5c114b13",
   "metadata": {},
   "outputs": [],
   "source": [
    "tukey = multicomp.tukeyhsd(alpha = 0.05)"
   ]
  },
  {
   "cell_type": "code",
   "execution_count": 68,
   "id": "4775d543",
   "metadata": {},
   "outputs": [
    {
     "name": "stdout",
     "output_type": "stream",
     "text": [
      "Multiple Comparison of Means - Tukey HSD, FWER=0.05\n",
      "==================================================\n",
      "group1 group2 meandiff p-adj  lower  upper  reject\n",
      "--------------------------------------------------\n",
      "     1      2   2.6808    0.0 2.0763 3.2853   True\n",
      "     1      3   4.0668    0.0 3.4271 4.7064   True\n",
      "     2      3    1.386 0.0002 0.5707 2.2013   True\n",
      "--------------------------------------------------\n"
     ]
    }
   ],
   "source": [
    "print(tukey)"
   ]
  },
  {
   "cell_type": "markdown",
   "id": "11592a5e",
   "metadata": {},
   "source": [
    "**Tüm seviyedeki kolestrol ortalamarı istatiksel olarak birbirleri ile farklıdır**"
   ]
  },
  {
   "cell_type": "markdown",
   "id": "41c8b163",
   "metadata": {},
   "source": [
    "# 🩸 ap_lo ❌ gluc🍨"
   ]
  },
  {
   "cell_type": "code",
   "execution_count": 69,
   "id": "8fdda6ef",
   "metadata": {},
   "outputs": [
    {
     "data": {
      "image/png": "[encoded data removed]",
      "text/plain": [
       "<Figure size 560x420 with 1 Axes>"
      ]
     },
     "metadata": {},
     "output_type": "display_data"
    }
   ],
   "source": [
    "sns.boxplot(x = df.gluc, y = df.ap_lo, showmeans = True, meanprops={\"marker\":\"o\",\n",
    "                                                                    \"markerfacecolor\":\"white\", \n",
    "                                                                    \"markeredgecolor\":\"black\",\n",
    "                                                                    \"markersize\":\"10\"});"
   ]
  },
  {
   "cell_type": "code",
   "execution_count": 70,
   "id": "e409df23",
   "metadata": {},
   "outputs": [
    {
     "data": {
      "text/html": [
       "<div>\n",
       "<style scoped>\n",
       "    .dataframe tbody tr th:only-of-type {\n",
       "        vertical-align: middle;\n",
       "    }\n",
       "\n",
       "    .dataframe tbody tr th {\n",
       "        vertical-align: top;\n",
       "    }\n",
       "\n",
       "    .dataframe thead th {\n",
       "        text-align: right;\n",
       "    }\n",
       "</style>\n",
       "<table border=\"1\" class=\"dataframe\">\n",
       "  <thead>\n",
       "    <tr style=\"text-align: right;\">\n",
       "      <th></th>\n",
       "      <th>count</th>\n",
       "      <th>mean</th>\n",
       "      <th>std</th>\n",
       "      <th>min</th>\n",
       "      <th>25%</th>\n",
       "      <th>50%</th>\n",
       "      <th>75%</th>\n",
       "      <th>max</th>\n",
       "    </tr>\n",
       "    <tr>\n",
       "      <th>gluc</th>\n",
       "      <th></th>\n",
       "      <th></th>\n",
       "      <th></th>\n",
       "      <th></th>\n",
       "      <th></th>\n",
       "      <th></th>\n",
       "      <th></th>\n",
       "      <th></th>\n",
       "    </tr>\n",
       "  </thead>\n",
       "  <tbody>\n",
       "    <tr>\n",
       "      <th>1</th>\n",
       "      <td>8474.0</td>\n",
       "      <td>80.688813</td>\n",
       "      <td>8.716189</td>\n",
       "      <td>45.0</td>\n",
       "      <td>80.0</td>\n",
       "      <td>80.0</td>\n",
       "      <td>90.0</td>\n",
       "      <td>110.0</td>\n",
       "    </tr>\n",
       "    <tr>\n",
       "      <th>2</th>\n",
       "      <td>741.0</td>\n",
       "      <td>82.306343</td>\n",
       "      <td>9.387849</td>\n",
       "      <td>59.0</td>\n",
       "      <td>80.0</td>\n",
       "      <td>80.0</td>\n",
       "      <td>90.0</td>\n",
       "      <td>110.0</td>\n",
       "    </tr>\n",
       "    <tr>\n",
       "      <th>3</th>\n",
       "      <td>785.0</td>\n",
       "      <td>82.439490</td>\n",
       "      <td>8.752068</td>\n",
       "      <td>59.0</td>\n",
       "      <td>80.0</td>\n",
       "      <td>80.0</td>\n",
       "      <td>90.0</td>\n",
       "      <td>110.0</td>\n",
       "    </tr>\n",
       "  </tbody>\n",
       "</table>\n",
       "</div>"
      ],
      "text/plain": [
       "       count       mean       std   min   25%   50%   75%    max\n",
       "gluc                                                            \n",
       "1     8474.0  80.688813  8.716189  45.0  80.0  80.0  90.0  110.0\n",
       "2      741.0  82.306343  9.387849  59.0  80.0  80.0  90.0  110.0\n",
       "3      785.0  82.439490  8.752068  59.0  80.0  80.0  90.0  110.0"
      ]
     },
     "execution_count": 70,
     "metadata": {},
     "output_type": "execute_result"
    }
   ],
   "source": [
    "df.groupby(\"gluc\").ap_lo.describe()"
   ]
  },
  {
   "cell_type": "markdown",
   "id": "0590a09f",
   "metadata": {},
   "source": [
    "**Ortalamalar istatiksel olarak bir fark var mı ınceleyelım**"
   ]
  },
  {
   "cell_type": "raw",
   "id": "1bb2a8e7",
   "metadata": {},
   "source": [
    "H0 : all mean are equal (mu1 = mu2 = mu3)\n",
    "H1 : at least one mean is different"
   ]
  },
  {
   "cell_type": "code",
   "execution_count": 71,
   "id": "e81a5356",
   "metadata": {},
   "outputs": [
    {
     "data": {
      "text/plain": [
       "F_onewayResult(statistic=23.93821509747193, pvalue=4.251872953777657e-11)"
      ]
     },
     "execution_count": 71,
     "metadata": {},
     "output_type": "execute_result"
    }
   ],
   "source": [
    "stats.f_oneway(df[df[\"gluc\"]==1][\"ap_lo\"],\n",
    "               df[df[\"gluc\"]==2][\"ap_lo\"],\n",
    "               df[df[\"gluc\"]==3][\"ap_lo\"])"
   ]
  },
  {
   "cell_type": "markdown",
   "id": "ad734112",
   "metadata": {},
   "source": [
    "**pvalue < 0.05 oldugu çıktığı için H0 hipotezini reddediriz.En az biri farklıdır. Peki hangisi ?**"
   ]
  },
  {
   "cell_type": "code",
   "execution_count": 143,
   "id": "16e77c0b",
   "metadata": {},
   "outputs": [],
   "source": [
    "multicomp = MultiComparison(df.ap_lo, df.gluc)"
   ]
  },
  {
   "cell_type": "code",
   "execution_count": 144,
   "id": "1175e5f2",
   "metadata": {},
   "outputs": [],
   "source": [
    "tukey = multicomp.tukeyhsd(alpha = 0.05)"
   ]
  },
  {
   "cell_type": "code",
   "execution_count": 145,
   "id": "cc98d10e",
   "metadata": {},
   "outputs": [
    {
     "name": "stdout",
     "output_type": "stream",
     "text": [
      "Multiple Comparison of Means - Tukey HSD, FWER=0.05\n",
      "===================================================\n",
      "group1 group2 meandiff p-adj   lower  upper  reject\n",
      "---------------------------------------------------\n",
      "     1      2   1.6175    0.0    0.83 2.4051   True\n",
      "     1      3   1.7507    0.0  0.9837 2.5177   True\n",
      "     2      3   0.1331 0.9527 -0.9198 1.1861  False\n",
      "---------------------------------------------------\n"
     ]
    }
   ],
   "source": [
    "print(tukey)"
   ]
  },
  {
   "cell_type": "markdown",
   "id": "95631b75",
   "metadata": {},
   "source": [
    "**2 ve 3.seviyedeki ortalamalar birbiri ile aynıdır**"
   ]
  },
  {
   "cell_type": "markdown",
   "id": "789946de",
   "metadata": {},
   "source": [
    "# 🩸 ap_lo ❌ smoke🚬"
   ]
  },
  {
   "cell_type": "code",
   "execution_count": 72,
   "id": "e13692b7",
   "metadata": {},
   "outputs": [
    {
     "data": {
      "image/png": "[encoded data removed]",
      "text/plain": [
       "<Figure size 560x420 with 1 Axes>"
      ]
     },
     "metadata": {},
     "output_type": "display_data"
    }
   ],
   "source": [
    "sns.boxplot(x = df.smoke, y = df.ap_lo, showmeans = True, meanprops={\"marker\":\"o\",\n",
    "                                                                    \"markerfacecolor\":\"white\", \n",
    "                                                                    \"markeredgecolor\":\"black\",\n",
    "                                                                    \"markersize\":\"10\"});"
   ]
  },
  {
   "cell_type": "code",
   "execution_count": 73,
   "id": "f265a8da",
   "metadata": {},
   "outputs": [
    {
     "data": {
      "text/html": [
       "<div>\n",
       "<style scoped>\n",
       "    .dataframe tbody tr th:only-of-type {\n",
       "        vertical-align: middle;\n",
       "    }\n",
       "\n",
       "    .dataframe tbody tr th {\n",
       "        vertical-align: top;\n",
       "    }\n",
       "\n",
       "    .dataframe thead th {\n",
       "        text-align: right;\n",
       "    }\n",
       "</style>\n",
       "<table border=\"1\" class=\"dataframe\">\n",
       "  <thead>\n",
       "    <tr style=\"text-align: right;\">\n",
       "      <th></th>\n",
       "      <th>count</th>\n",
       "      <th>mean</th>\n",
       "      <th>std</th>\n",
       "      <th>min</th>\n",
       "      <th>25%</th>\n",
       "      <th>50%</th>\n",
       "      <th>75%</th>\n",
       "      <th>max</th>\n",
       "    </tr>\n",
       "    <tr>\n",
       "      <th>smoke</th>\n",
       "      <th></th>\n",
       "      <th></th>\n",
       "      <th></th>\n",
       "      <th></th>\n",
       "      <th></th>\n",
       "      <th></th>\n",
       "      <th></th>\n",
       "      <th></th>\n",
       "    </tr>\n",
       "  </thead>\n",
       "  <tbody>\n",
       "    <tr>\n",
       "      <th>0</th>\n",
       "      <td>9110.0</td>\n",
       "      <td>80.890121</td>\n",
       "      <td>8.728250</td>\n",
       "      <td>45.0</td>\n",
       "      <td>80.0</td>\n",
       "      <td>80.0</td>\n",
       "      <td>90.0</td>\n",
       "      <td>110.0</td>\n",
       "    </tr>\n",
       "    <tr>\n",
       "      <th>1</th>\n",
       "      <td>890.0</td>\n",
       "      <td>81.519101</td>\n",
       "      <td>9.390789</td>\n",
       "      <td>45.0</td>\n",
       "      <td>80.0</td>\n",
       "      <td>80.0</td>\n",
       "      <td>90.0</td>\n",
       "      <td>110.0</td>\n",
       "    </tr>\n",
       "  </tbody>\n",
       "</table>\n",
       "</div>"
      ],
      "text/plain": [
       "        count       mean       std   min   25%   50%   75%    max\n",
       "smoke                                                            \n",
       "0      9110.0  80.890121  8.728250  45.0  80.0  80.0  90.0  110.0\n",
       "1       890.0  81.519101  9.390789  45.0  80.0  80.0  90.0  110.0"
      ]
     },
     "execution_count": 73,
     "metadata": {},
     "output_type": "execute_result"
    }
   ],
   "source": [
    "df.groupby(\"smoke\").ap_lo.describe()"
   ]
  },
  {
   "cell_type": "markdown",
   "id": "83c1dc89",
   "metadata": {},
   "source": [
    "**Sigara içen ve içmeyenler'in küçük tansiyonların ortalamaları arasında anlamı bir fark var mı yok mu ınceleyelım**"
   ]
  },
  {
   "cell_type": "raw",
   "id": "91906565",
   "metadata": {},
   "source": [
    "H0: var_smoke1 = var_smoke0\n",
    "H1: var_smoke1 != var_smoke0\n",
    "alpa = 0.05"
   ]
  },
  {
   "cell_type": "code",
   "execution_count": 74,
   "id": "51df7c7d",
   "metadata": {},
   "outputs": [
    {
     "data": {
      "text/plain": [
       "LeveneResult(statistic=8.808126353629875, pvalue=0.0030060239979320122)"
      ]
     },
     "execution_count": 74,
     "metadata": {},
     "output_type": "execute_result"
    }
   ],
   "source": [
    "stats.levene(df[df.smoke == 0].ap_lo, df[df.smoke == 1].ap_lo)"
   ]
  },
  {
   "cell_type": "markdown",
   "id": "d0912a3d",
   "metadata": {},
   "source": [
    "**pvalue < 0.05 oldugu için varyanslar farklıdır diyebiliriz**"
   ]
  },
  {
   "cell_type": "raw",
   "id": "1808c0de",
   "metadata": {},
   "source": [
    "Ho : mü1 = mü2\n",
    "H1 : mü1 =! mü2"
   ]
  },
  {
   "cell_type": "code",
   "execution_count": 146,
   "id": "1ba3b39a",
   "metadata": {},
   "outputs": [
    {
     "data": {
      "text/plain": [
       "Ttest_indResult(statistic=-1.918828023281786, pvalue=0.05527835410653456)"
      ]
     },
     "execution_count": 146,
     "metadata": {},
     "output_type": "execute_result"
    }
   ],
   "source": [
    "stats.ttest_ind(df[df[\"smoke\"]==0][\"ap_lo\"],df[df[\"smoke\"]==1][\"ap_lo\"], equal_var=False)"
   ]
  },
  {
   "cell_type": "markdown",
   "id": "b989e433",
   "metadata": {},
   "source": [
    "**pvalue > 0.05 cıktıgı için H0 hipotezini kabul ederiz. Yani Ortalamalar birbiri ile aynıdır**"
   ]
  },
  {
   "cell_type": "markdown",
   "id": "d01031aa",
   "metadata": {},
   "source": [
    "# 🩸 ap_lo ❌ alco🍾"
   ]
  },
  {
   "cell_type": "code",
   "execution_count": 76,
   "id": "b971bc1a",
   "metadata": {},
   "outputs": [
    {
     "data": {
      "image/png": "[encoded data removed]",
      "text/plain": [
       "<Figure size 560x420 with 1 Axes>"
      ]
     },
     "metadata": {},
     "output_type": "display_data"
    }
   ],
   "source": [
    "sns.boxplot(x = df.alco, y = df.ap_lo, showmeans = True, meanprops={\"marker\":\"o\",\n",
    "                                                                    \"markerfacecolor\":\"white\", \n",
    "                                                                    \"markeredgecolor\":\"black\",\n",
    "                                                                    \"markersize\":\"10\"});"
   ]
  },
  {
   "cell_type": "code",
   "execution_count": 77,
   "id": "5f525739",
   "metadata": {},
   "outputs": [
    {
     "data": {
      "text/html": [
       "<div>\n",
       "<style scoped>\n",
       "    .dataframe tbody tr th:only-of-type {\n",
       "        vertical-align: middle;\n",
       "    }\n",
       "\n",
       "    .dataframe tbody tr th {\n",
       "        vertical-align: top;\n",
       "    }\n",
       "\n",
       "    .dataframe thead th {\n",
       "        text-align: right;\n",
       "    }\n",
       "</style>\n",
       "<table border=\"1\" class=\"dataframe\">\n",
       "  <thead>\n",
       "    <tr style=\"text-align: right;\">\n",
       "      <th></th>\n",
       "      <th>count</th>\n",
       "      <th>mean</th>\n",
       "      <th>std</th>\n",
       "      <th>min</th>\n",
       "      <th>25%</th>\n",
       "      <th>50%</th>\n",
       "      <th>75%</th>\n",
       "      <th>max</th>\n",
       "    </tr>\n",
       "    <tr>\n",
       "      <th>alco</th>\n",
       "      <th></th>\n",
       "      <th></th>\n",
       "      <th></th>\n",
       "      <th></th>\n",
       "      <th></th>\n",
       "      <th></th>\n",
       "      <th></th>\n",
       "      <th></th>\n",
       "    </tr>\n",
       "  </thead>\n",
       "  <tbody>\n",
       "    <tr>\n",
       "      <th>0</th>\n",
       "      <td>9454.0</td>\n",
       "      <td>80.880262</td>\n",
       "      <td>8.751494</td>\n",
       "      <td>45.0</td>\n",
       "      <td>80.0</td>\n",
       "      <td>80.0</td>\n",
       "      <td>90.0</td>\n",
       "      <td>110.0</td>\n",
       "    </tr>\n",
       "    <tr>\n",
       "      <th>1</th>\n",
       "      <td>546.0</td>\n",
       "      <td>82.086081</td>\n",
       "      <td>9.377012</td>\n",
       "      <td>45.0</td>\n",
       "      <td>80.0</td>\n",
       "      <td>80.0</td>\n",
       "      <td>90.0</td>\n",
       "      <td>110.0</td>\n",
       "    </tr>\n",
       "  </tbody>\n",
       "</table>\n",
       "</div>"
      ],
      "text/plain": [
       "       count       mean       std   min   25%   50%   75%    max\n",
       "alco                                                            \n",
       "0     9454.0  80.880262  8.751494  45.0  80.0  80.0  90.0  110.0\n",
       "1      546.0  82.086081  9.377012  45.0  80.0  80.0  90.0  110.0"
      ]
     },
     "execution_count": 77,
     "metadata": {},
     "output_type": "execute_result"
    }
   ],
   "source": [
    "df.groupby(\"alco\").ap_lo.describe()"
   ]
  },
  {
   "cell_type": "markdown",
   "id": "9fefd714",
   "metadata": {},
   "source": [
    "**Alkol içen ve içmeyenler'in küçük tansiyonların ortalamaları arasında anlamı bir fark var mı yok mu ınceleyelım**"
   ]
  },
  {
   "cell_type": "raw",
   "id": "e02aedc8",
   "metadata": {},
   "source": [
    "H0: var_alcol1 = var_alcol0\n",
    "H1: var_alcol1 != var_alcol0\n",
    "alpa = 0.05"
   ]
  },
  {
   "cell_type": "code",
   "execution_count": 78,
   "id": "63e85251",
   "metadata": {},
   "outputs": [
    {
     "data": {
      "text/plain": [
       "LeveneResult(statistic=8.796895314266424, pvalue=0.0030245689409194336)"
      ]
     },
     "execution_count": 78,
     "metadata": {},
     "output_type": "execute_result"
    }
   ],
   "source": [
    "stats.levene(df[df.alco == 0].ap_lo, df[df.alco == 1].ap_lo)"
   ]
  },
  {
   "cell_type": "markdown",
   "id": "8aaf8c1b",
   "metadata": {},
   "source": [
    "**pvalue < 0.05 oldugu için varyanslar farklıdır diyebiliriz**"
   ]
  },
  {
   "cell_type": "raw",
   "id": "bcf98fa7",
   "metadata": {},
   "source": [
    "Ho : mü1 = mü2\n",
    "H1 : mü1 =! mü2"
   ]
  },
  {
   "cell_type": "code",
   "execution_count": 79,
   "id": "27b5c270",
   "metadata": {},
   "outputs": [
    {
     "data": {
      "text/plain": [
       "Ttest_indResult(statistic=-2.931945904602916, pvalue=0.003496597948786992)"
      ]
     },
     "execution_count": 79,
     "metadata": {},
     "output_type": "execute_result"
    }
   ],
   "source": [
    "stats.ttest_ind(df[df[\"alco\"]==0][\"ap_lo\"],df[df[\"alco\"]==1][\"ap_lo\"], equal_var=False)"
   ]
  },
  {
   "cell_type": "markdown",
   "id": "c75550ba",
   "metadata": {},
   "source": [
    "**pvalue < 0.05  için H0 hipotezi reddedilir alkol içen ve içmeyen kişilerin küçük tansiyonları birbirinden farklıdır**"
   ]
  },
  {
   "cell_type": "markdown",
   "id": "69c952ce",
   "metadata": {},
   "source": [
    "# 🩸 ap_lo ❌ active🚴"
   ]
  },
  {
   "cell_type": "code",
   "execution_count": 80,
   "id": "db7be1a9",
   "metadata": {},
   "outputs": [
    {
     "data": {
      "image/png": "[encoded data removed]",
      "text/plain": [
       "<Figure size 560x420 with 1 Axes>"
      ]
     },
     "metadata": {},
     "output_type": "display_data"
    }
   ],
   "source": [
    "sns.boxplot(x = df.active, y = df.ap_lo, showmeans = True, meanprops={\"marker\":\"o\",\n",
    "                                                                    \"markerfacecolor\":\"white\", \n",
    "                                                                    \"markeredgecolor\":\"black\",\n",
    "                                                                    \"markersize\":\"10\"});"
   ]
  },
  {
   "cell_type": "code",
   "execution_count": 81,
   "id": "0ffdf59c",
   "metadata": {},
   "outputs": [
    {
     "data": {
      "text/html": [
       "<div>\n",
       "<style scoped>\n",
       "    .dataframe tbody tr th:only-of-type {\n",
       "        vertical-align: middle;\n",
       "    }\n",
       "\n",
       "    .dataframe tbody tr th {\n",
       "        vertical-align: top;\n",
       "    }\n",
       "\n",
       "    .dataframe thead th {\n",
       "        text-align: right;\n",
       "    }\n",
       "</style>\n",
       "<table border=\"1\" class=\"dataframe\">\n",
       "  <thead>\n",
       "    <tr style=\"text-align: right;\">\n",
       "      <th></th>\n",
       "      <th>count</th>\n",
       "      <th>mean</th>\n",
       "      <th>std</th>\n",
       "      <th>min</th>\n",
       "      <th>25%</th>\n",
       "      <th>50%</th>\n",
       "      <th>75%</th>\n",
       "      <th>max</th>\n",
       "    </tr>\n",
       "    <tr>\n",
       "      <th>active</th>\n",
       "      <th></th>\n",
       "      <th></th>\n",
       "      <th></th>\n",
       "      <th></th>\n",
       "      <th></th>\n",
       "      <th></th>\n",
       "      <th></th>\n",
       "      <th></th>\n",
       "    </tr>\n",
       "  </thead>\n",
       "  <tbody>\n",
       "    <tr>\n",
       "      <th>0</th>\n",
       "      <td>1900.0</td>\n",
       "      <td>80.783684</td>\n",
       "      <td>8.664664</td>\n",
       "      <td>57.0</td>\n",
       "      <td>80.0</td>\n",
       "      <td>80.0</td>\n",
       "      <td>90.0</td>\n",
       "      <td>110.0</td>\n",
       "    </tr>\n",
       "    <tr>\n",
       "      <th>1</th>\n",
       "      <td>8100.0</td>\n",
       "      <td>80.984198</td>\n",
       "      <td>8.819939</td>\n",
       "      <td>45.0</td>\n",
       "      <td>80.0</td>\n",
       "      <td>80.0</td>\n",
       "      <td>90.0</td>\n",
       "      <td>110.0</td>\n",
       "    </tr>\n",
       "  </tbody>\n",
       "</table>\n",
       "</div>"
      ],
      "text/plain": [
       "         count       mean       std   min   25%   50%   75%    max\n",
       "active                                                            \n",
       "0       1900.0  80.783684  8.664664  57.0  80.0  80.0  90.0  110.0\n",
       "1       8100.0  80.984198  8.819939  45.0  80.0  80.0  90.0  110.0"
      ]
     },
     "execution_count": 81,
     "metadata": {},
     "output_type": "execute_result"
    }
   ],
   "source": [
    "df.groupby(\"active\").ap_lo.describe()"
   ]
  },
  {
   "cell_type": "markdown",
   "id": "cea99f02",
   "metadata": {},
   "source": [
    "**Aktif olanların ve olmayanların küçük tansiyonların ortalamaları arasında anlamı bir fark var mı yok mu ınceleyelım**"
   ]
  },
  {
   "cell_type": "raw",
   "id": "25259b73",
   "metadata": {},
   "source": [
    "H0: var_active1 = var_active0\n",
    "H1: var_active1 != var_active0\n",
    "alpa = 0.05"
   ]
  },
  {
   "cell_type": "code",
   "execution_count": 82,
   "id": "51b1030a",
   "metadata": {},
   "outputs": [
    {
     "data": {
      "text/plain": [
       "LeveneResult(statistic=1.517491455706584, pvalue=0.21802847707389467)"
      ]
     },
     "execution_count": 82,
     "metadata": {},
     "output_type": "execute_result"
    }
   ],
   "source": [
    "stats.levene(df[df.active == 0].ap_lo, df[df.active == 1].ap_lo)"
   ]
  },
  {
   "cell_type": "markdown",
   "id": "ebe1f937",
   "metadata": {},
   "source": [
    "**pvalue > 0.05 oldugu için varyanslar aynıdır diyebiliriz**"
   ]
  },
  {
   "cell_type": "raw",
   "id": "190811d0",
   "metadata": {},
   "source": [
    "Ho : mü1 = mü2\n",
    "H1 : mü1 =! mü2"
   ]
  },
  {
   "cell_type": "code",
   "execution_count": 147,
   "id": "06848f07",
   "metadata": {},
   "outputs": [
    {
     "data": {
      "text/plain": [
       "Ttest_indResult(statistic=-0.8948313080119109, pvalue=0.3708988126615268)"
      ]
     },
     "execution_count": 147,
     "metadata": {},
     "output_type": "execute_result"
    }
   ],
   "source": [
    "stats.ttest_ind(df[df[\"active\"]==0][\"ap_lo\"],df[df[\"active\"]==1][\"ap_lo\"], equal_var=True)"
   ]
  },
  {
   "cell_type": "markdown",
   "id": "97452dc5",
   "metadata": {},
   "source": [
    "**pvalue > 0.05 oldugu için H0 hipotezini kabul ederiz. Yani Aktif olanlar ile olmayanlar arasındaki küçük tansiyon ortalamarı arasında anlamlı bir fark yoktur**"
   ]
  },
  {
   "cell_type": "markdown",
   "id": "e6233c90",
   "metadata": {},
   "source": [
    "# 🩸 ap_lo ❌ cardio❤️"
   ]
  },
  {
   "cell_type": "code",
   "execution_count": 84,
   "id": "d59b1a67",
   "metadata": {},
   "outputs": [
    {
     "data": {
      "image/png": "[encoded data removed]",
      "text/plain": [
       "<Figure size 560x420 with 1 Axes>"
      ]
     },
     "metadata": {},
     "output_type": "display_data"
    }
   ],
   "source": [
    "sns.boxplot(x = df.cardio, y = df.ap_lo, showmeans = True, meanprops={\"marker\":\"o\",\n",
    "                                                                    \"markerfacecolor\":\"white\", \n",
    "                                                                    \"markeredgecolor\":\"black\",\n",
    "                                                                    \"markersize\":\"10\"});"
   ]
  },
  {
   "cell_type": "code",
   "execution_count": 85,
   "id": "3733a0c7",
   "metadata": {},
   "outputs": [
    {
     "data": {
      "text/html": [
       "<div>\n",
       "<style scoped>\n",
       "    .dataframe tbody tr th:only-of-type {\n",
       "        vertical-align: middle;\n",
       "    }\n",
       "\n",
       "    .dataframe tbody tr th {\n",
       "        vertical-align: top;\n",
       "    }\n",
       "\n",
       "    .dataframe thead th {\n",
       "        text-align: right;\n",
       "    }\n",
       "</style>\n",
       "<table border=\"1\" class=\"dataframe\">\n",
       "  <thead>\n",
       "    <tr style=\"text-align: right;\">\n",
       "      <th></th>\n",
       "      <th>count</th>\n",
       "      <th>mean</th>\n",
       "      <th>std</th>\n",
       "      <th>min</th>\n",
       "      <th>25%</th>\n",
       "      <th>50%</th>\n",
       "      <th>75%</th>\n",
       "      <th>max</th>\n",
       "    </tr>\n",
       "    <tr>\n",
       "      <th>cardio</th>\n",
       "      <th></th>\n",
       "      <th></th>\n",
       "      <th></th>\n",
       "      <th></th>\n",
       "      <th></th>\n",
       "      <th></th>\n",
       "      <th></th>\n",
       "      <th></th>\n",
       "    </tr>\n",
       "  </thead>\n",
       "  <tbody>\n",
       "    <tr>\n",
       "      <th>0</th>\n",
       "      <td>5124.0</td>\n",
       "      <td>78.120999</td>\n",
       "      <td>7.972442</td>\n",
       "      <td>45.0</td>\n",
       "      <td>70.0</td>\n",
       "      <td>80.0</td>\n",
       "      <td>80.0</td>\n",
       "      <td>110.0</td>\n",
       "    </tr>\n",
       "    <tr>\n",
       "      <th>1</th>\n",
       "      <td>4876.0</td>\n",
       "      <td>83.914889</td>\n",
       "      <td>8.631198</td>\n",
       "      <td>45.0</td>\n",
       "      <td>80.0</td>\n",
       "      <td>80.0</td>\n",
       "      <td>90.0</td>\n",
       "      <td>110.0</td>\n",
       "    </tr>\n",
       "  </tbody>\n",
       "</table>\n",
       "</div>"
      ],
      "text/plain": [
       "         count       mean       std   min   25%   50%   75%    max\n",
       "cardio                                                            \n",
       "0       5124.0  78.120999  7.972442  45.0  70.0  80.0  80.0  110.0\n",
       "1       4876.0  83.914889  8.631198  45.0  80.0  80.0  90.0  110.0"
      ]
     },
     "execution_count": 85,
     "metadata": {},
     "output_type": "execute_result"
    }
   ],
   "source": [
    "df.groupby(\"cardio\").ap_lo.describe()"
   ]
  },
  {
   "cell_type": "raw",
   "id": "685af1c3",
   "metadata": {},
   "source": [
    "H0: var_cardio1 = var_cardio0\n",
    "H1: var_cardio1 != var_cardio0\n",
    "alpa = 0.05"
   ]
  },
  {
   "cell_type": "code",
   "execution_count": 86,
   "id": "5d6467d6",
   "metadata": {},
   "outputs": [
    {
     "data": {
      "text/plain": [
       "LeveneResult(statistic=127.85569245795956, pvalue=1.821830870135843e-29)"
      ]
     },
     "execution_count": 86,
     "metadata": {},
     "output_type": "execute_result"
    }
   ],
   "source": [
    "stats.levene(df[df.cardio == 0].ap_lo, df[df.cardio == 1].ap_lo)"
   ]
  },
  {
   "cell_type": "markdown",
   "id": "10e99073",
   "metadata": {},
   "source": [
    "**pvalue 0'a çok yakın bir değer oldugu için varyanslar farklıdır diyebiliriz**"
   ]
  },
  {
   "cell_type": "raw",
   "id": "9c08701d",
   "metadata": {},
   "source": [
    "Ho : mü1 = mü2\n",
    "H1 : mü1 =! mü2"
   ]
  },
  {
   "cell_type": "code",
   "execution_count": 87,
   "id": "39312942",
   "metadata": {},
   "outputs": [
    {
     "data": {
      "text/plain": [
       "Ttest_indResult(statistic=-34.822951392681084, pvalue=1.1890551288249128e-250)"
      ]
     },
     "execution_count": 87,
     "metadata": {},
     "output_type": "execute_result"
    }
   ],
   "source": [
    "stats.ttest_ind(df[df[\"cardio\"]==0][\"ap_lo\"],df[df[\"cardio\"]==1][\"ap_lo\"], equal_var=False)"
   ]
  },
  {
   "cell_type": "markdown",
   "id": "fe6fcd65",
   "metadata": {},
   "source": [
    "**pvalue 0'a çok yakın bir değer oldugu için ortalamalar farklıdır dıyebılırız**"
   ]
  },
  {
   "cell_type": "markdown",
   "id": "96ae0cbc",
   "metadata": {},
   "source": [
    "# 😷 cholesterol❌ gluc🍨"
   ]
  },
  {
   "cell_type": "markdown",
   "id": "8d7650c5",
   "metadata": {},
   "source": [
    "**aralarında anlamı bir ilişki var mı onu inceleyelim**"
   ]
  },
  {
   "cell_type": "raw",
   "id": "8eea3d8a",
   "metadata": {},
   "source": [
    "H0 : birbirlerinden bağımsızdır\n",
    "H1 : birbirleri ile bir bağlantıları vardır"
   ]
  },
  {
   "cell_type": "code",
   "execution_count": 88,
   "id": "c1cab109",
   "metadata": {},
   "outputs": [
    {
     "data": {
      "image/png": "[encoded data removed]",
      "text/plain": [
       "<Figure size 560x420 with 1 Axes>"
      ]
     },
     "metadata": {},
     "output_type": "display_data"
    }
   ],
   "source": [
    "sns.countplot(x = df.cholesterol, hue = df.gluc);"
   ]
  },
  {
   "cell_type": "code",
   "execution_count": 89,
   "id": "abfe71a3",
   "metadata": {},
   "outputs": [
    {
     "data": {
      "text/html": [
       "<div>\n",
       "<style scoped>\n",
       "    .dataframe tbody tr th:only-of-type {\n",
       "        vertical-align: middle;\n",
       "    }\n",
       "\n",
       "    .dataframe tbody tr th {\n",
       "        vertical-align: top;\n",
       "    }\n",
       "\n",
       "    .dataframe thead th {\n",
       "        text-align: right;\n",
       "    }\n",
       "</style>\n",
       "<table border=\"1\" class=\"dataframe\">\n",
       "  <thead>\n",
       "    <tr style=\"text-align: right;\">\n",
       "      <th>gluc</th>\n",
       "      <th>1</th>\n",
       "      <th>2</th>\n",
       "      <th>3</th>\n",
       "    </tr>\n",
       "    <tr>\n",
       "      <th>cholesterol</th>\n",
       "      <th></th>\n",
       "      <th></th>\n",
       "      <th></th>\n",
       "    </tr>\n",
       "  </thead>\n",
       "  <tbody>\n",
       "    <tr>\n",
       "      <th>1</th>\n",
       "      <td>6956</td>\n",
       "      <td>337</td>\n",
       "      <td>213</td>\n",
       "    </tr>\n",
       "    <tr>\n",
       "      <th>2</th>\n",
       "      <td>944</td>\n",
       "      <td>336</td>\n",
       "      <td>49</td>\n",
       "    </tr>\n",
       "    <tr>\n",
       "      <th>3</th>\n",
       "      <td>574</td>\n",
       "      <td>68</td>\n",
       "      <td>523</td>\n",
       "    </tr>\n",
       "  </tbody>\n",
       "</table>\n",
       "</div>"
      ],
      "text/plain": [
       "gluc            1    2    3\n",
       "cholesterol                \n",
       "1            6956  337  213\n",
       "2             944  336   49\n",
       "3             574   68  523"
      ]
     },
     "execution_count": 89,
     "metadata": {},
     "output_type": "execute_result"
    }
   ],
   "source": [
    "ct = pd.crosstab(df.cholesterol, df.gluc)\n",
    "ct"
   ]
  },
  {
   "cell_type": "code",
   "execution_count": 90,
   "id": "3f9ab058",
   "metadata": {},
   "outputs": [],
   "source": [
    "chi, p, dof, expected = stats.chi2_contingency(ct)"
   ]
  },
  {
   "cell_type": "code",
   "execution_count": 91,
   "id": "fe67e764",
   "metadata": {},
   "outputs": [
    {
     "name": "stdout",
     "output_type": "stream",
     "text": [
      "test statictis 3227.278585680451\n",
      "p-value 0.0\n"
     ]
    }
   ],
   "source": [
    "print(\"test statictis\", chi)\n",
    "print(\"p-value\", p)"
   ]
  },
  {
   "cell_type": "markdown",
   "id": "e50e32f6",
   "metadata": {},
   "source": [
    "**cholesterol ile gluc değişkenleri arasında anlamı bir bağlantı vardır**"
   ]
  },
  {
   "cell_type": "markdown",
   "id": "3e21ce2a",
   "metadata": {},
   "source": [
    " # 😷 cholesterol❌ smoke 🚬"
   ]
  },
  {
   "cell_type": "markdown",
   "id": "50e450ac",
   "metadata": {},
   "source": [
    "**aralarında anlamı bir ilişki var mı onu inceleyelim**"
   ]
  },
  {
   "cell_type": "code",
   "execution_count": 92,
   "id": "acc03b94",
   "metadata": {},
   "outputs": [
    {
     "data": {
      "image/png": "[encoded data removed]",
      "text/plain": [
       "<Figure size 560x420 with 1 Axes>"
      ]
     },
     "metadata": {},
     "output_type": "display_data"
    }
   ],
   "source": [
    "sns.countplot(x = df.cholesterol, hue = df.smoke);"
   ]
  },
  {
   "cell_type": "code",
   "execution_count": 93,
   "id": "c9b31aaf",
   "metadata": {},
   "outputs": [
    {
     "data": {
      "text/html": [
       "<div>\n",
       "<style scoped>\n",
       "    .dataframe tbody tr th:only-of-type {\n",
       "        vertical-align: middle;\n",
       "    }\n",
       "\n",
       "    .dataframe tbody tr th {\n",
       "        vertical-align: top;\n",
       "    }\n",
       "\n",
       "    .dataframe thead th {\n",
       "        text-align: right;\n",
       "    }\n",
       "</style>\n",
       "<table border=\"1\" class=\"dataframe\">\n",
       "  <thead>\n",
       "    <tr style=\"text-align: right;\">\n",
       "      <th>smoke</th>\n",
       "      <th>0</th>\n",
       "      <th>1</th>\n",
       "    </tr>\n",
       "    <tr>\n",
       "      <th>cholesterol</th>\n",
       "      <th></th>\n",
       "      <th></th>\n",
       "    </tr>\n",
       "  </thead>\n",
       "  <tbody>\n",
       "    <tr>\n",
       "      <th>1</th>\n",
       "      <td>6866</td>\n",
       "      <td>640</td>\n",
       "    </tr>\n",
       "    <tr>\n",
       "      <th>2</th>\n",
       "      <td>1200</td>\n",
       "      <td>129</td>\n",
       "    </tr>\n",
       "    <tr>\n",
       "      <th>3</th>\n",
       "      <td>1044</td>\n",
       "      <td>121</td>\n",
       "    </tr>\n",
       "  </tbody>\n",
       "</table>\n",
       "</div>"
      ],
      "text/plain": [
       "smoke           0    1\n",
       "cholesterol           \n",
       "1            6866  640\n",
       "2            1200  129\n",
       "3            1044  121"
      ]
     },
     "execution_count": 93,
     "metadata": {},
     "output_type": "execute_result"
    }
   ],
   "source": [
    "ct = pd.crosstab(df.cholesterol, df.smoke)\n",
    "ct"
   ]
  },
  {
   "cell_type": "code",
   "execution_count": 94,
   "id": "6834ec4a",
   "metadata": {},
   "outputs": [],
   "source": [
    "chi, p, dof, expected = stats.chi2_contingency(ct)"
   ]
  },
  {
   "cell_type": "code",
   "execution_count": 95,
   "id": "44e0ce0f",
   "metadata": {},
   "outputs": [
    {
     "name": "stdout",
     "output_type": "stream",
     "text": [
      "test statictis 5.531694529642023\n",
      "p-value 0.0629227645120287\n"
     ]
    }
   ],
   "source": [
    "print(\"test statictis\", chi)\n",
    "print(\"p-value\", p)"
   ]
  },
  {
   "cell_type": "markdown",
   "id": "990c876c",
   "metadata": {},
   "source": [
    "**pvalue > 0.05 cholesterol ile smoke değişkenleri arasında anlamı bir bağlantı yoktur**"
   ]
  },
  {
   "cell_type": "markdown",
   "id": "e6e2bc47",
   "metadata": {},
   "source": [
    " # 😷 cholesterol❌ alco 🍺"
   ]
  },
  {
   "cell_type": "markdown",
   "id": "465128ca",
   "metadata": {},
   "source": [
    "**aralarında anlamı bir ilişki var mı onu inceleyelim**"
   ]
  },
  {
   "cell_type": "code",
   "execution_count": 96,
   "id": "13ad22c6",
   "metadata": {},
   "outputs": [
    {
     "data": {
      "image/png": "[encoded data removed]",
      "text/plain": [
       "<Figure size 560x420 with 1 Axes>"
      ]
     },
     "metadata": {},
     "output_type": "display_data"
    }
   ],
   "source": [
    "sns.countplot(x = df.cholesterol, hue = df.alco);"
   ]
  },
  {
   "cell_type": "code",
   "execution_count": 97,
   "id": "448085d2",
   "metadata": {},
   "outputs": [
    {
     "data": {
      "text/html": [
       "<div>\n",
       "<style scoped>\n",
       "    .dataframe tbody tr th:only-of-type {\n",
       "        vertical-align: middle;\n",
       "    }\n",
       "\n",
       "    .dataframe tbody tr th {\n",
       "        vertical-align: top;\n",
       "    }\n",
       "\n",
       "    .dataframe thead th {\n",
       "        text-align: right;\n",
       "    }\n",
       "</style>\n",
       "<table border=\"1\" class=\"dataframe\">\n",
       "  <thead>\n",
       "    <tr style=\"text-align: right;\">\n",
       "      <th>alco</th>\n",
       "      <th>0</th>\n",
       "      <th>1</th>\n",
       "    </tr>\n",
       "    <tr>\n",
       "      <th>cholesterol</th>\n",
       "      <th></th>\n",
       "      <th></th>\n",
       "    </tr>\n",
       "  </thead>\n",
       "  <tbody>\n",
       "    <tr>\n",
       "      <th>1</th>\n",
       "      <td>7131</td>\n",
       "      <td>375</td>\n",
       "    </tr>\n",
       "    <tr>\n",
       "      <th>2</th>\n",
       "      <td>1229</td>\n",
       "      <td>100</td>\n",
       "    </tr>\n",
       "    <tr>\n",
       "      <th>3</th>\n",
       "      <td>1094</td>\n",
       "      <td>71</td>\n",
       "    </tr>\n",
       "  </tbody>\n",
       "</table>\n",
       "</div>"
      ],
      "text/plain": [
       "alco            0    1\n",
       "cholesterol           \n",
       "1            7131  375\n",
       "2            1229  100\n",
       "3            1094   71"
      ]
     },
     "execution_count": 97,
     "metadata": {},
     "output_type": "execute_result"
    }
   ],
   "source": [
    "ct = pd.crosstab(df.cholesterol, df.alco)\n",
    "ct"
   ]
  },
  {
   "cell_type": "code",
   "execution_count": 98,
   "id": "93a68efb",
   "metadata": {},
   "outputs": [],
   "source": [
    "chi, p, dof, expected = stats.chi2_contingency(ct)"
   ]
  },
  {
   "cell_type": "code",
   "execution_count": 99,
   "id": "fdce2633",
   "metadata": {},
   "outputs": [
    {
     "name": "stdout",
     "output_type": "stream",
     "text": [
      "test statictis 15.012059435421827\n",
      "p-value 0.0005497594617288868\n"
     ]
    }
   ],
   "source": [
    "print(\"test statictis\", chi)\n",
    "print(\"p-value\", p)"
   ]
  },
  {
   "cell_type": "markdown",
   "id": "aa946a2c",
   "metadata": {},
   "source": [
    "**cholesterol ile alco değişkenleri arasında anlamı bir bağlantı vardır**"
   ]
  },
  {
   "cell_type": "markdown",
   "id": "63af712c",
   "metadata": {},
   "source": [
    " # 😷 cholesterol❌ active 🚴‍♀️"
   ]
  },
  {
   "cell_type": "markdown",
   "id": "977e51d7",
   "metadata": {},
   "source": [
    "**aralarında anlamı bir ilişki var mı onu inceleyelim**"
   ]
  },
  {
   "cell_type": "code",
   "execution_count": 100,
   "id": "a4e6a17d",
   "metadata": {},
   "outputs": [
    {
     "data": {
      "image/png": "[encoded data removed]",
      "text/plain": [
       "<Figure size 560x420 with 1 Axes>"
      ]
     },
     "metadata": {},
     "output_type": "display_data"
    }
   ],
   "source": [
    "sns.countplot(x = df.cholesterol, hue = df.active);"
   ]
  },
  {
   "cell_type": "code",
   "execution_count": 101,
   "id": "92864343",
   "metadata": {},
   "outputs": [
    {
     "data": {
      "text/html": [
       "<div>\n",
       "<style scoped>\n",
       "    .dataframe tbody tr th:only-of-type {\n",
       "        vertical-align: middle;\n",
       "    }\n",
       "\n",
       "    .dataframe tbody tr th {\n",
       "        vertical-align: top;\n",
       "    }\n",
       "\n",
       "    .dataframe thead th {\n",
       "        text-align: right;\n",
       "    }\n",
       "</style>\n",
       "<table border=\"1\" class=\"dataframe\">\n",
       "  <thead>\n",
       "    <tr style=\"text-align: right;\">\n",
       "      <th>active</th>\n",
       "      <th>0</th>\n",
       "      <th>1</th>\n",
       "    </tr>\n",
       "    <tr>\n",
       "      <th>cholesterol</th>\n",
       "      <th></th>\n",
       "      <th></th>\n",
       "    </tr>\n",
       "  </thead>\n",
       "  <tbody>\n",
       "    <tr>\n",
       "      <th>1</th>\n",
       "      <td>1473</td>\n",
       "      <td>6033</td>\n",
       "    </tr>\n",
       "    <tr>\n",
       "      <th>2</th>\n",
       "      <td>227</td>\n",
       "      <td>1102</td>\n",
       "    </tr>\n",
       "    <tr>\n",
       "      <th>3</th>\n",
       "      <td>200</td>\n",
       "      <td>965</td>\n",
       "    </tr>\n",
       "  </tbody>\n",
       "</table>\n",
       "</div>"
      ],
      "text/plain": [
       "active          0     1\n",
       "cholesterol            \n",
       "1            1473  6033\n",
       "2             227  1102\n",
       "3             200   965"
      ]
     },
     "execution_count": 101,
     "metadata": {},
     "output_type": "execute_result"
    }
   ],
   "source": [
    "ct = pd.crosstab(df.cholesterol, df.active)\n",
    "ct"
   ]
  },
  {
   "cell_type": "code",
   "execution_count": 102,
   "id": "bf88539d",
   "metadata": {},
   "outputs": [],
   "source": [
    "chi, p, dof, expected = stats.chi2_contingency(ct)"
   ]
  },
  {
   "cell_type": "code",
   "execution_count": 103,
   "id": "1200ecde",
   "metadata": {},
   "outputs": [
    {
     "name": "stdout",
     "output_type": "stream",
     "text": [
      "test statictis 7.624903609468254\n",
      "p-value 0.022093942462834307\n"
     ]
    }
   ],
   "source": [
    "print(\"test statictis\", chi)\n",
    "print(\"p-value\", p)"
   ]
  },
  {
   "cell_type": "markdown",
   "id": "c7d96af5",
   "metadata": {},
   "source": [
    "**pvalue < 0.05 oldugu için cholestrol seviyesi ile aktiflik seviyesi arasında bir bağ vardır**"
   ]
  },
  {
   "cell_type": "markdown",
   "id": "43164995",
   "metadata": {},
   "source": [
    " # 😷 cholesterol❌ cardio ❤️"
   ]
  },
  {
   "cell_type": "markdown",
   "id": "cce652ff",
   "metadata": {},
   "source": [
    "**aralarında anlamı bir ilişki var mı onu inceleyelim**"
   ]
  },
  {
   "cell_type": "code",
   "execution_count": 104,
   "id": "374335d7",
   "metadata": {},
   "outputs": [
    {
     "data": {
      "image/png": "[encoded data removed]",
      "text/plain": [
       "<Figure size 560x420 with 1 Axes>"
      ]
     },
     "metadata": {},
     "output_type": "display_data"
    }
   ],
   "source": [
    "sns.countplot(x = df.cholesterol, hue = df.cardio);"
   ]
  },
  {
   "cell_type": "code",
   "execution_count": 105,
   "id": "e70daf2e",
   "metadata": {},
   "outputs": [
    {
     "data": {
      "text/html": [
       "<div>\n",
       "<style scoped>\n",
       "    .dataframe tbody tr th:only-of-type {\n",
       "        vertical-align: middle;\n",
       "    }\n",
       "\n",
       "    .dataframe tbody tr th {\n",
       "        vertical-align: top;\n",
       "    }\n",
       "\n",
       "    .dataframe thead th {\n",
       "        text-align: right;\n",
       "    }\n",
       "</style>\n",
       "<table border=\"1\" class=\"dataframe\">\n",
       "  <thead>\n",
       "    <tr style=\"text-align: right;\">\n",
       "      <th>cardio</th>\n",
       "      <th>0</th>\n",
       "      <th>1</th>\n",
       "    </tr>\n",
       "    <tr>\n",
       "      <th>cholesterol</th>\n",
       "      <th></th>\n",
       "      <th></th>\n",
       "    </tr>\n",
       "  </thead>\n",
       "  <tbody>\n",
       "    <tr>\n",
       "      <th>1</th>\n",
       "      <td>4318</td>\n",
       "      <td>3188</td>\n",
       "    </tr>\n",
       "    <tr>\n",
       "      <th>2</th>\n",
       "      <td>523</td>\n",
       "      <td>806</td>\n",
       "    </tr>\n",
       "    <tr>\n",
       "      <th>3</th>\n",
       "      <td>283</td>\n",
       "      <td>882</td>\n",
       "    </tr>\n",
       "  </tbody>\n",
       "</table>\n",
       "</div>"
      ],
      "text/plain": [
       "cardio          0     1\n",
       "cholesterol            \n",
       "1            4318  3188\n",
       "2             523   806\n",
       "3             283   882"
      ]
     },
     "execution_count": 105,
     "metadata": {},
     "output_type": "execute_result"
    }
   ],
   "source": [
    "ct = pd.crosstab(df.cholesterol, df.cardio)\n",
    "ct"
   ]
  },
  {
   "cell_type": "code",
   "execution_count": 106,
   "id": "64a9a38a",
   "metadata": {},
   "outputs": [],
   "source": [
    "chi, p, dof, expected = stats.chi2_contingency(ct)"
   ]
  },
  {
   "cell_type": "code",
   "execution_count": 107,
   "id": "15e4102f",
   "metadata": {},
   "outputs": [
    {
     "name": "stdout",
     "output_type": "stream",
     "text": [
      "test statictis 532.5406678023987\n",
      "p-value 2.2922569183924152e-116\n"
     ]
    }
   ],
   "source": [
    "print(\"test statictis\", chi)\n",
    "print(\"p-value\", p)"
   ]
  },
  {
   "cell_type": "markdown",
   "id": "5f0bed7f",
   "metadata": {},
   "source": [
    "**pvalue 0'a cok yakın bir değer oldugu için aralarında güçlü bir bağ vardır**"
   ]
  },
  {
   "cell_type": "markdown",
   "id": "12807df7",
   "metadata": {},
   "source": [
    " # 🍨 gluc❌ smoke 🚬"
   ]
  },
  {
   "cell_type": "markdown",
   "id": "2f32fbd6",
   "metadata": {},
   "source": [
    "**aralarında anlamı bir ilişki var mı onu inceleyelim**"
   ]
  },
  {
   "cell_type": "code",
   "execution_count": 108,
   "id": "edc43114",
   "metadata": {},
   "outputs": [
    {
     "data": {
      "text/html": [
       "<div>\n",
       "<style scoped>\n",
       "    .dataframe tbody tr th:only-of-type {\n",
       "        vertical-align: middle;\n",
       "    }\n",
       "\n",
       "    .dataframe tbody tr th {\n",
       "        vertical-align: top;\n",
       "    }\n",
       "\n",
       "    .dataframe thead th {\n",
       "        text-align: right;\n",
       "    }\n",
       "</style>\n",
       "<table border=\"1\" class=\"dataframe\">\n",
       "  <thead>\n",
       "    <tr style=\"text-align: right;\">\n",
       "      <th>smoke</th>\n",
       "      <th>0</th>\n",
       "      <th>1</th>\n",
       "    </tr>\n",
       "    <tr>\n",
       "      <th>gluc</th>\n",
       "      <th></th>\n",
       "      <th></th>\n",
       "    </tr>\n",
       "  </thead>\n",
       "  <tbody>\n",
       "    <tr>\n",
       "      <th>1</th>\n",
       "      <td>7720</td>\n",
       "      <td>754</td>\n",
       "    </tr>\n",
       "    <tr>\n",
       "      <th>2</th>\n",
       "      <td>665</td>\n",
       "      <td>76</td>\n",
       "    </tr>\n",
       "    <tr>\n",
       "      <th>3</th>\n",
       "      <td>725</td>\n",
       "      <td>60</td>\n",
       "    </tr>\n",
       "  </tbody>\n",
       "</table>\n",
       "</div>"
      ],
      "text/plain": [
       "smoke     0    1\n",
       "gluc            \n",
       "1      7720  754\n",
       "2       665   76\n",
       "3       725   60"
      ]
     },
     "execution_count": 108,
     "metadata": {},
     "output_type": "execute_result"
    }
   ],
   "source": [
    "ct = pd.crosstab(df.gluc, df.smoke)\n",
    "ct"
   ]
  },
  {
   "cell_type": "code",
   "execution_count": 109,
   "id": "98202360",
   "metadata": {},
   "outputs": [],
   "source": [
    "chi, p, dof, expected = stats.chi2_contingency(ct)"
   ]
  },
  {
   "cell_type": "code",
   "execution_count": 110,
   "id": "a7c4d0ca",
   "metadata": {},
   "outputs": [
    {
     "name": "stdout",
     "output_type": "stream",
     "text": [
      "test statictis 3.2105617807805835\n",
      "p-value 0.20083313488903967\n"
     ]
    }
   ],
   "source": [
    "print(\"test statictis\", chi)\n",
    "print(\"p-value\", p)"
   ]
  },
  {
   "cell_type": "markdown",
   "id": "b6aa7f2b",
   "metadata": {},
   "source": [
    "**pvalue > 0.05 oldugu için sigara içme durumu ile şeker hastası olma durumu arasında bir ilişki yoktur**"
   ]
  },
  {
   "cell_type": "markdown",
   "id": "93ed543e",
   "metadata": {},
   "source": [
    " # 🍨 gluc❌ alco 🍺"
   ]
  },
  {
   "cell_type": "code",
   "execution_count": 111,
   "id": "7e1133ea",
   "metadata": {},
   "outputs": [
    {
     "data": {
      "text/html": [
       "<div>\n",
       "<style scoped>\n",
       "    .dataframe tbody tr th:only-of-type {\n",
       "        vertical-align: middle;\n",
       "    }\n",
       "\n",
       "    .dataframe tbody tr th {\n",
       "        vertical-align: top;\n",
       "    }\n",
       "\n",
       "    .dataframe thead th {\n",
       "        text-align: right;\n",
       "    }\n",
       "</style>\n",
       "<table border=\"1\" class=\"dataframe\">\n",
       "  <thead>\n",
       "    <tr style=\"text-align: right;\">\n",
       "      <th>alco</th>\n",
       "      <th>0</th>\n",
       "      <th>1</th>\n",
       "    </tr>\n",
       "    <tr>\n",
       "      <th>gluc</th>\n",
       "      <th></th>\n",
       "      <th></th>\n",
       "    </tr>\n",
       "  </thead>\n",
       "  <tbody>\n",
       "    <tr>\n",
       "      <th>1</th>\n",
       "      <td>8024</td>\n",
       "      <td>450</td>\n",
       "    </tr>\n",
       "    <tr>\n",
       "      <th>2</th>\n",
       "      <td>689</td>\n",
       "      <td>52</td>\n",
       "    </tr>\n",
       "    <tr>\n",
       "      <th>3</th>\n",
       "      <td>741</td>\n",
       "      <td>44</td>\n",
       "    </tr>\n",
       "  </tbody>\n",
       "</table>\n",
       "</div>"
      ],
      "text/plain": [
       "alco     0    1\n",
       "gluc           \n",
       "1     8024  450\n",
       "2      689   52\n",
       "3      741   44"
      ]
     },
     "execution_count": 111,
     "metadata": {},
     "output_type": "execute_result"
    }
   ],
   "source": [
    "ct = pd.crosstab(df.gluc, df.alco)\n",
    "ct"
   ]
  },
  {
   "cell_type": "code",
   "execution_count": 112,
   "id": "813d98c4",
   "metadata": {},
   "outputs": [],
   "source": [
    "chi, p, dof, expected = stats.chi2_contingency(ct)"
   ]
  },
  {
   "cell_type": "code",
   "execution_count": 113,
   "id": "64e2fd4b",
   "metadata": {},
   "outputs": [
    {
     "name": "stdout",
     "output_type": "stream",
     "text": [
      "test statictis 3.882106140550589\n",
      "p-value 0.14355269907253804\n"
     ]
    }
   ],
   "source": [
    "print(\"test statictis\", chi)\n",
    "print(\"p-value\", p)"
   ]
  },
  {
   "cell_type": "markdown",
   "id": "77a520d3",
   "metadata": {},
   "source": [
    "**pvalue > 0.05 oldugu için sigara içme durumu ile alkol kullanma durumu arasında bir ilişki yoktur**"
   ]
  },
  {
   "cell_type": "markdown",
   "id": "b89e7ba9",
   "metadata": {},
   "source": [
    " # 🍨 gluc❌ active 🚴‍♀️"
   ]
  },
  {
   "cell_type": "code",
   "execution_count": 114,
   "id": "5a081b23",
   "metadata": {},
   "outputs": [
    {
     "data": {
      "text/html": [
       "<div>\n",
       "<style scoped>\n",
       "    .dataframe tbody tr th:only-of-type {\n",
       "        vertical-align: middle;\n",
       "    }\n",
       "\n",
       "    .dataframe tbody tr th {\n",
       "        vertical-align: top;\n",
       "    }\n",
       "\n",
       "    .dataframe thead th {\n",
       "        text-align: right;\n",
       "    }\n",
       "</style>\n",
       "<table border=\"1\" class=\"dataframe\">\n",
       "  <thead>\n",
       "    <tr style=\"text-align: right;\">\n",
       "      <th>active</th>\n",
       "      <th>0</th>\n",
       "      <th>1</th>\n",
       "    </tr>\n",
       "    <tr>\n",
       "      <th>gluc</th>\n",
       "      <th></th>\n",
       "      <th></th>\n",
       "    </tr>\n",
       "  </thead>\n",
       "  <tbody>\n",
       "    <tr>\n",
       "      <th>1</th>\n",
       "      <td>1620</td>\n",
       "      <td>6854</td>\n",
       "    </tr>\n",
       "    <tr>\n",
       "      <th>2</th>\n",
       "      <td>133</td>\n",
       "      <td>608</td>\n",
       "    </tr>\n",
       "    <tr>\n",
       "      <th>3</th>\n",
       "      <td>147</td>\n",
       "      <td>638</td>\n",
       "    </tr>\n",
       "  </tbody>\n",
       "</table>\n",
       "</div>"
      ],
      "text/plain": [
       "active     0     1\n",
       "gluc              \n",
       "1       1620  6854\n",
       "2        133   608\n",
       "3        147   638"
      ]
     },
     "execution_count": 114,
     "metadata": {},
     "output_type": "execute_result"
    }
   ],
   "source": [
    "ct = pd.crosstab(df.gluc, df.active)\n",
    "ct"
   ]
  },
  {
   "cell_type": "code",
   "execution_count": 115,
   "id": "2c0a94ee",
   "metadata": {},
   "outputs": [],
   "source": [
    "chi, p, dof, expected = stats.chi2_contingency(ct)"
   ]
  },
  {
   "cell_type": "code",
   "execution_count": 116,
   "id": "0ef06dc1",
   "metadata": {},
   "outputs": [
    {
     "name": "stdout",
     "output_type": "stream",
     "text": [
      "test statictis 0.6461535053977847\n",
      "p-value 0.723918289553067\n"
     ]
    }
   ],
   "source": [
    "print(\"test statictis\", chi)\n",
    "print(\"p-value\", p)"
   ]
  },
  {
   "cell_type": "markdown",
   "id": "96991db1",
   "metadata": {},
   "source": [
    "**pvalue > 0.05 oldugu için şeker hastası olma durumu ile aktiflik durumu arasında hiçbir bağ yoktur**"
   ]
  },
  {
   "cell_type": "markdown",
   "id": "fb894c30",
   "metadata": {},
   "source": [
    " # 🍨 gluc❌ cardio ❤️"
   ]
  },
  {
   "cell_type": "code",
   "execution_count": 117,
   "id": "a512a278",
   "metadata": {},
   "outputs": [
    {
     "data": {
      "text/html": [
       "<div>\n",
       "<style scoped>\n",
       "    .dataframe tbody tr th:only-of-type {\n",
       "        vertical-align: middle;\n",
       "    }\n",
       "\n",
       "    .dataframe tbody tr th {\n",
       "        vertical-align: top;\n",
       "    }\n",
       "\n",
       "    .dataframe thead th {\n",
       "        text-align: right;\n",
       "    }\n",
       "</style>\n",
       "<table border=\"1\" class=\"dataframe\">\n",
       "  <thead>\n",
       "    <tr style=\"text-align: right;\">\n",
       "      <th>cardio</th>\n",
       "      <th>0</th>\n",
       "      <th>1</th>\n",
       "    </tr>\n",
       "    <tr>\n",
       "      <th>gluc</th>\n",
       "      <th></th>\n",
       "      <th></th>\n",
       "    </tr>\n",
       "  </thead>\n",
       "  <tbody>\n",
       "    <tr>\n",
       "      <th>1</th>\n",
       "      <td>4510</td>\n",
       "      <td>3964</td>\n",
       "    </tr>\n",
       "    <tr>\n",
       "      <th>2</th>\n",
       "      <td>312</td>\n",
       "      <td>429</td>\n",
       "    </tr>\n",
       "    <tr>\n",
       "      <th>3</th>\n",
       "      <td>302</td>\n",
       "      <td>483</td>\n",
       "    </tr>\n",
       "  </tbody>\n",
       "</table>\n",
       "</div>"
      ],
      "text/plain": [
       "cardio     0     1\n",
       "gluc              \n",
       "1       4510  3964\n",
       "2        312   429\n",
       "3        302   483"
      ]
     },
     "execution_count": 117,
     "metadata": {},
     "output_type": "execute_result"
    }
   ],
   "source": [
    "ct = pd.crosstab(df.gluc, df.cardio)\n",
    "ct"
   ]
  },
  {
   "cell_type": "code",
   "execution_count": 118,
   "id": "e916ff50",
   "metadata": {},
   "outputs": [],
   "source": [
    "chi, p, dof, expected = stats.chi2_contingency(ct)"
   ]
  },
  {
   "cell_type": "code",
   "execution_count": 119,
   "id": "7dbc3a58",
   "metadata": {},
   "outputs": [
    {
     "name": "stdout",
     "output_type": "stream",
     "text": [
      "test statictis 89.29204059441366\n",
      "p-value 4.0783054149841764e-20\n"
     ]
    }
   ],
   "source": [
    "print(\"test statictis\", chi)\n",
    "print(\"p-value\", p)"
   ]
  },
  {
   "cell_type": "markdown",
   "id": "90c9ed86",
   "metadata": {},
   "source": [
    "**pvalue < 0.05 oldugu için seker hastası olma durumu ile cardiovaskuler hastası olma durumu ıle bir bağı vardır**"
   ]
  },
  {
   "cell_type": "markdown",
   "id": "e58ebe63",
   "metadata": {},
   "source": [
    " # 🚬 smoke ❌ alco 🍺"
   ]
  },
  {
   "cell_type": "code",
   "execution_count": 120,
   "id": "315782b7",
   "metadata": {},
   "outputs": [
    {
     "data": {
      "text/html": [
       "<div>\n",
       "<style scoped>\n",
       "    .dataframe tbody tr th:only-of-type {\n",
       "        vertical-align: middle;\n",
       "    }\n",
       "\n",
       "    .dataframe tbody tr th {\n",
       "        vertical-align: top;\n",
       "    }\n",
       "\n",
       "    .dataframe thead th {\n",
       "        text-align: right;\n",
       "    }\n",
       "</style>\n",
       "<table border=\"1\" class=\"dataframe\">\n",
       "  <thead>\n",
       "    <tr style=\"text-align: right;\">\n",
       "      <th>alco</th>\n",
       "      <th>0</th>\n",
       "      <th>1</th>\n",
       "    </tr>\n",
       "    <tr>\n",
       "      <th>smoke</th>\n",
       "      <th></th>\n",
       "      <th></th>\n",
       "    </tr>\n",
       "  </thead>\n",
       "  <tbody>\n",
       "    <tr>\n",
       "      <th>0</th>\n",
       "      <td>8840</td>\n",
       "      <td>270</td>\n",
       "    </tr>\n",
       "    <tr>\n",
       "      <th>1</th>\n",
       "      <td>614</td>\n",
       "      <td>276</td>\n",
       "    </tr>\n",
       "  </tbody>\n",
       "</table>\n",
       "</div>"
      ],
      "text/plain": [
       "alco      0    1\n",
       "smoke           \n",
       "0      8840  270\n",
       "1       614  276"
      ]
     },
     "execution_count": 120,
     "metadata": {},
     "output_type": "execute_result"
    }
   ],
   "source": [
    "ct = pd.crosstab(df.smoke, df.alco)\n",
    "ct"
   ]
  },
  {
   "cell_type": "code",
   "execution_count": 121,
   "id": "7ffbfeae",
   "metadata": {},
   "outputs": [],
   "source": [
    "chi, p, dof, expected = stats.chi2_contingency(ct)"
   ]
  },
  {
   "cell_type": "code",
   "execution_count": 122,
   "id": "73ecdca3",
   "metadata": {},
   "outputs": [
    {
     "name": "stdout",
     "output_type": "stream",
     "text": [
      "test statictis 1230.1989035018246\n",
      "p-value 1.668408382776046e-269\n"
     ]
    }
   ],
   "source": [
    "print(\"test statictis\", chi)\n",
    "print(\"p-value\", p)"
   ]
  },
  {
   "cell_type": "markdown",
   "id": "48529db9",
   "metadata": {},
   "source": [
    "**pvalue  oldugu için sıgara kullanma ıle alkol kullanma durumu arasında bir bağ vardır**"
   ]
  },
  {
   "cell_type": "markdown",
   "id": "9f209914",
   "metadata": {},
   "source": [
    " # 🚬 smoke ❌ active 🚴‍♀️"
   ]
  },
  {
   "cell_type": "code",
   "execution_count": 123,
   "id": "8c10d090",
   "metadata": {},
   "outputs": [
    {
     "data": {
      "text/html": [
       "<div>\n",
       "<style scoped>\n",
       "    .dataframe tbody tr th:only-of-type {\n",
       "        vertical-align: middle;\n",
       "    }\n",
       "\n",
       "    .dataframe tbody tr th {\n",
       "        vertical-align: top;\n",
       "    }\n",
       "\n",
       "    .dataframe thead th {\n",
       "        text-align: right;\n",
       "    }\n",
       "</style>\n",
       "<table border=\"1\" class=\"dataframe\">\n",
       "  <thead>\n",
       "    <tr style=\"text-align: right;\">\n",
       "      <th>active</th>\n",
       "      <th>0</th>\n",
       "      <th>1</th>\n",
       "    </tr>\n",
       "    <tr>\n",
       "      <th>smoke</th>\n",
       "      <th></th>\n",
       "      <th></th>\n",
       "    </tr>\n",
       "  </thead>\n",
       "  <tbody>\n",
       "    <tr>\n",
       "      <th>0</th>\n",
       "      <td>1753</td>\n",
       "      <td>7357</td>\n",
       "    </tr>\n",
       "    <tr>\n",
       "      <th>1</th>\n",
       "      <td>147</td>\n",
       "      <td>743</td>\n",
       "    </tr>\n",
       "  </tbody>\n",
       "</table>\n",
       "</div>"
      ],
      "text/plain": [
       "active     0     1\n",
       "smoke             \n",
       "0       1753  7357\n",
       "1        147   743"
      ]
     },
     "execution_count": 123,
     "metadata": {},
     "output_type": "execute_result"
    }
   ],
   "source": [
    "ct = pd.crosstab(df.smoke, df.active)\n",
    "ct"
   ]
  },
  {
   "cell_type": "code",
   "execution_count": 124,
   "id": "1e7b1576",
   "metadata": {},
   "outputs": [],
   "source": [
    "chi, p, dof, expected = stats.chi2_contingency(ct)"
   ]
  },
  {
   "cell_type": "code",
   "execution_count": 125,
   "id": "424561f6",
   "metadata": {},
   "outputs": [
    {
     "name": "stdout",
     "output_type": "stream",
     "text": [
      "test statictis 3.7390433372000405\n",
      "p-value 0.05315487044200762\n"
     ]
    }
   ],
   "source": [
    "print(\"test statictis\", chi)\n",
    "print(\"p-value\", p)"
   ]
  },
  {
   "cell_type": "markdown",
   "id": "ee2d1cc5",
   "metadata": {},
   "source": [
    "**pvalue > 0.05 oldugu için sigara kullanma durumu ile alkol kullanma durumu arasında bir ilişki yoktur**"
   ]
  },
  {
   "cell_type": "markdown",
   "id": "af1310e9",
   "metadata": {},
   "source": [
    " # 🚬 smoke ❌ cardio ❤️"
   ]
  },
  {
   "cell_type": "code",
   "execution_count": 126,
   "id": "eddc0111",
   "metadata": {},
   "outputs": [
    {
     "data": {
      "text/html": [
       "<div>\n",
       "<style scoped>\n",
       "    .dataframe tbody tr th:only-of-type {\n",
       "        vertical-align: middle;\n",
       "    }\n",
       "\n",
       "    .dataframe tbody tr th {\n",
       "        vertical-align: top;\n",
       "    }\n",
       "\n",
       "    .dataframe thead th {\n",
       "        text-align: right;\n",
       "    }\n",
       "</style>\n",
       "<table border=\"1\" class=\"dataframe\">\n",
       "  <thead>\n",
       "    <tr style=\"text-align: right;\">\n",
       "      <th>active</th>\n",
       "      <th>0</th>\n",
       "      <th>1</th>\n",
       "    </tr>\n",
       "    <tr>\n",
       "      <th>smoke</th>\n",
       "      <th></th>\n",
       "      <th></th>\n",
       "    </tr>\n",
       "  </thead>\n",
       "  <tbody>\n",
       "    <tr>\n",
       "      <th>0</th>\n",
       "      <td>1753</td>\n",
       "      <td>7357</td>\n",
       "    </tr>\n",
       "    <tr>\n",
       "      <th>1</th>\n",
       "      <td>147</td>\n",
       "      <td>743</td>\n",
       "    </tr>\n",
       "  </tbody>\n",
       "</table>\n",
       "</div>"
      ],
      "text/plain": [
       "active     0     1\n",
       "smoke             \n",
       "0       1753  7357\n",
       "1        147   743"
      ]
     },
     "execution_count": 126,
     "metadata": {},
     "output_type": "execute_result"
    }
   ],
   "source": [
    "ct = pd.crosstab(df.smoke, df.active)\n",
    "ct"
   ]
  },
  {
   "cell_type": "code",
   "execution_count": 127,
   "id": "146a1268",
   "metadata": {},
   "outputs": [],
   "source": [
    "chi, p, dof, expected = stats.chi2_contingency(ct)"
   ]
  },
  {
   "cell_type": "code",
   "execution_count": 128,
   "id": "6d32e868",
   "metadata": {},
   "outputs": [
    {
     "name": "stdout",
     "output_type": "stream",
     "text": [
      "test statictis 3.7390433372000405\n",
      "p-value 0.05315487044200762\n"
     ]
    }
   ],
   "source": [
    "print(\"test statictis\", chi)\n",
    "print(\"p-value\", p)"
   ]
  },
  {
   "cell_type": "markdown",
   "id": "87192475",
   "metadata": {},
   "source": [
    "**pvalue > 0.05 oldugu için sigara kullanma durumu ile cardiovaskuler hastası olma durumu arasında bir ilişki yoktur**"
   ]
  },
  {
   "cell_type": "markdown",
   "id": "b4f6d52a",
   "metadata": {},
   "source": [
    " # 🍺 alco ❌ active 🚴‍♀️"
   ]
  },
  {
   "cell_type": "code",
   "execution_count": 129,
   "id": "3b434cb6",
   "metadata": {},
   "outputs": [
    {
     "data": {
      "text/html": [
       "<div>\n",
       "<style scoped>\n",
       "    .dataframe tbody tr th:only-of-type {\n",
       "        vertical-align: middle;\n",
       "    }\n",
       "\n",
       "    .dataframe tbody tr th {\n",
       "        vertical-align: top;\n",
       "    }\n",
       "\n",
       "    .dataframe thead th {\n",
       "        text-align: right;\n",
       "    }\n",
       "</style>\n",
       "<table border=\"1\" class=\"dataframe\">\n",
       "  <thead>\n",
       "    <tr style=\"text-align: right;\">\n",
       "      <th>active</th>\n",
       "      <th>0</th>\n",
       "      <th>1</th>\n",
       "    </tr>\n",
       "    <tr>\n",
       "      <th>alco</th>\n",
       "      <th></th>\n",
       "      <th></th>\n",
       "    </tr>\n",
       "  </thead>\n",
       "  <tbody>\n",
       "    <tr>\n",
       "      <th>0</th>\n",
       "      <td>1823</td>\n",
       "      <td>7631</td>\n",
       "    </tr>\n",
       "    <tr>\n",
       "      <th>1</th>\n",
       "      <td>77</td>\n",
       "      <td>469</td>\n",
       "    </tr>\n",
       "  </tbody>\n",
       "</table>\n",
       "</div>"
      ],
      "text/plain": [
       "active     0     1\n",
       "alco              \n",
       "0       1823  7631\n",
       "1         77   469"
      ]
     },
     "execution_count": 129,
     "metadata": {},
     "output_type": "execute_result"
    }
   ],
   "source": [
    "ct = pd.crosstab(df.alco, df.active)\n",
    "ct"
   ]
  },
  {
   "cell_type": "code",
   "execution_count": 130,
   "id": "ed7853be",
   "metadata": {},
   "outputs": [],
   "source": [
    "chi, p, dof, expected = stats.chi2_contingency(ct)"
   ]
  },
  {
   "cell_type": "code",
   "execution_count": 131,
   "id": "d8d2add3",
   "metadata": {},
   "outputs": [
    {
     "name": "stdout",
     "output_type": "stream",
     "text": [
      "test statictis 8.667239567987664\n",
      "p-value 0.0032398158588412074\n"
     ]
    }
   ],
   "source": [
    "print(\"test statictis\", chi)\n",
    "print(\"p-value\", p)"
   ]
  },
  {
   "cell_type": "markdown",
   "id": "5ea37fbc",
   "metadata": {},
   "source": [
    "**pvalue < 0.05 oldugu için alkol kullanma durumu ile aktiflik durumu arasında bir ilişki vardır**"
   ]
  },
  {
   "cell_type": "markdown",
   "id": "456758b6",
   "metadata": {},
   "source": [
    " # 🍺 alco ❌ cardio ❤️"
   ]
  },
  {
   "cell_type": "code",
   "execution_count": 132,
   "id": "2adf8d67",
   "metadata": {},
   "outputs": [
    {
     "data": {
      "text/html": [
       "<div>\n",
       "<style scoped>\n",
       "    .dataframe tbody tr th:only-of-type {\n",
       "        vertical-align: middle;\n",
       "    }\n",
       "\n",
       "    .dataframe tbody tr th {\n",
       "        vertical-align: top;\n",
       "    }\n",
       "\n",
       "    .dataframe thead th {\n",
       "        text-align: right;\n",
       "    }\n",
       "</style>\n",
       "<table border=\"1\" class=\"dataframe\">\n",
       "  <thead>\n",
       "    <tr style=\"text-align: right;\">\n",
       "      <th>cardio</th>\n",
       "      <th>0</th>\n",
       "      <th>1</th>\n",
       "    </tr>\n",
       "    <tr>\n",
       "      <th>alco</th>\n",
       "      <th></th>\n",
       "      <th></th>\n",
       "    </tr>\n",
       "  </thead>\n",
       "  <tbody>\n",
       "    <tr>\n",
       "      <th>0</th>\n",
       "      <td>4842</td>\n",
       "      <td>4612</td>\n",
       "    </tr>\n",
       "    <tr>\n",
       "      <th>1</th>\n",
       "      <td>282</td>\n",
       "      <td>264</td>\n",
       "    </tr>\n",
       "  </tbody>\n",
       "</table>\n",
       "</div>"
      ],
      "text/plain": [
       "cardio     0     1\n",
       "alco              \n",
       "0       4842  4612\n",
       "1        282   264"
      ]
     },
     "execution_count": 132,
     "metadata": {},
     "output_type": "execute_result"
    }
   ],
   "source": [
    "ct = pd.crosstab(df.alco, df.cardio)\n",
    "ct"
   ]
  },
  {
   "cell_type": "code",
   "execution_count": 133,
   "id": "6b48bd2a",
   "metadata": {},
   "outputs": [],
   "source": [
    "chi, p, dof, expected = stats.chi2_contingency(ct)"
   ]
  },
  {
   "cell_type": "code",
   "execution_count": 134,
   "id": "1e8a4987",
   "metadata": {},
   "outputs": [
    {
     "name": "stdout",
     "output_type": "stream",
     "text": [
      "test statictis 0.02319585015400425\n",
      "p-value 0.8789488745524152\n"
     ]
    }
   ],
   "source": [
    "print(\"test statictis\", chi)\n",
    "print(\"p-value\", p)"
   ]
  },
  {
   "cell_type": "markdown",
   "id": "209baefc",
   "metadata": {},
   "source": [
    "**pvalue > 0.05 oldugu için alkol kullanma durumu ile kardiovaskuler hastası olma durumu arasında bir ilişki yoktur**"
   ]
  },
  {
   "cell_type": "markdown",
   "id": "d7eefd81",
   "metadata": {},
   "source": [
    " # 🚴‍♀️ active ❌ cardio ❤️"
   ]
  },
  {
   "cell_type": "code",
   "execution_count": 135,
   "id": "0c09fe9b",
   "metadata": {},
   "outputs": [
    {
     "data": {
      "text/html": [
       "<div>\n",
       "<style scoped>\n",
       "    .dataframe tbody tr th:only-of-type {\n",
       "        vertical-align: middle;\n",
       "    }\n",
       "\n",
       "    .dataframe tbody tr th {\n",
       "        vertical-align: top;\n",
       "    }\n",
       "\n",
       "    .dataframe thead th {\n",
       "        text-align: right;\n",
       "    }\n",
       "</style>\n",
       "<table border=\"1\" class=\"dataframe\">\n",
       "  <thead>\n",
       "    <tr style=\"text-align: right;\">\n",
       "      <th>cardio</th>\n",
       "      <th>0</th>\n",
       "      <th>1</th>\n",
       "    </tr>\n",
       "    <tr>\n",
       "      <th>active</th>\n",
       "      <th></th>\n",
       "      <th></th>\n",
       "    </tr>\n",
       "  </thead>\n",
       "  <tbody>\n",
       "    <tr>\n",
       "      <th>0</th>\n",
       "      <td>923</td>\n",
       "      <td>977</td>\n",
       "    </tr>\n",
       "    <tr>\n",
       "      <th>1</th>\n",
       "      <td>4201</td>\n",
       "      <td>3899</td>\n",
       "    </tr>\n",
       "  </tbody>\n",
       "</table>\n",
       "</div>"
      ],
      "text/plain": [
       "cardio     0     1\n",
       "active            \n",
       "0        923   977\n",
       "1       4201  3899"
      ]
     },
     "execution_count": 135,
     "metadata": {},
     "output_type": "execute_result"
    }
   ],
   "source": [
    "ct = pd.crosstab(df.active, df.cardio)\n",
    "ct"
   ]
  },
  {
   "cell_type": "code",
   "execution_count": 136,
   "id": "0eeec0c7",
   "metadata": {},
   "outputs": [],
   "source": [
    "chi, p, dof, expected = stats.chi2_contingency(ct)"
   ]
  },
  {
   "cell_type": "code",
   "execution_count": 137,
   "id": "720dcc30",
   "metadata": {},
   "outputs": [
    {
     "name": "stdout",
     "output_type": "stream",
     "text": [
      "test statictis 6.517338118243129\n",
      "p-value 0.010682777795862054\n"
     ]
    }
   ],
   "source": [
    "print(\"test statictis\", chi)\n",
    "print(\"p-value\", p)"
   ]
  },
  {
   "cell_type": "markdown",
   "id": "4d56e694",
   "metadata": {},
   "source": [
    "**pvalue < 0.05 oldugu için aktiflik durumu ile kardiovaskuler hastası olma durumu arasında bir ilişki vardır**"
   ]
  }
 ],
 "metadata": {
  "kernelspec": {
   "display_name": "Python 3 (ipykernel)",
   "language": "python",
   "name": "python3"
  },
  "language_info": {
   "codemirror_mode": {
    "name": "ipython",
    "version": 3
   },
   "file_extension": ".py",
   "mimetype": "text/x-python",
   "name": "python",
   "nbconvert_exporter": "python",
   "pygments_lexer": "ipython3",
   "version": "3.10.6"
  }
 },
 "nbformat": 4,
 "nbformat_minor": 5
}
